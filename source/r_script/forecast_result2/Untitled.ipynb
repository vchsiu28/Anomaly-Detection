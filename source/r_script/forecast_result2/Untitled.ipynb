{
 "cells": [
  {
   "cell_type": "code",
   "execution_count": 71,
   "metadata": {},
   "outputs": [],
   "source": [
    "import pandas as pd\n",
    "import numpy as np\n",
    "from scipy import stats\n",
    "from sklearn.metrics import mean_absolute_error\n",
    "import math"
   ]
  },
  {
   "cell_type": "code",
   "execution_count": 10,
   "metadata": {},
   "outputs": [],
   "source": [
    "df = pd.read_csv('result.csv')\n",
    "df = df.iloc[:,np.arange(6)]\n",
    "df.columns = ['customer','device','date','visitors','orders','rate']"
   ]
  },
  {
   "cell_type": "code",
   "execution_count": 91,
   "metadata": {},
   "outputs": [],
   "source": [
    "df=pd.read_csv('forecast.csv')\n",
    "df.columns = ['date','visitors','orders','rate','customer','device']"
   ]
  },
  {
   "cell_type": "code",
   "execution_count": 95,
   "metadata": {},
   "outputs": [],
   "source": [
    "df0 = df[(df.customer == 'All Visitors') & (df.device == 'All Devices')].reset_index(drop=True)\n",
    "\n",
    "df1 = df[(df.customer == 'CUSTOMER') & (df.device == 'Mobile Phone')].reset_index(drop=True)\n",
    "df2 = df[(df.customer == 'CUSTOMER') & (df.device == 'Desktop')].reset_index(drop=True)\n",
    "df3 = df[(df.customer == 'CUSTOMER') & (df.device == 'Tablet')].reset_index(drop=True)\n",
    "\n",
    "df4 = df[(df.customer == 'UNDETERMINED') & (df.device == 'Mobile Phone')].reset_index(drop=True)\n",
    "df5 = df[(df.customer == 'UNDETERMINED') & (df.device == 'Desktop')].reset_index(drop=True)\n",
    "df6 = df[(df.customer == 'UNDETERMINED') & (df.device == 'Tablet')].reset_index(drop=True)\n",
    "\n",
    "df7 = df[(df.customer == 'PROSPECT') & (df.device == 'Mobile Phone')].reset_index(drop=True)\n",
    "df8 = df[(df.customer == 'PROSPECT') & (df.device == 'Desktop')].reset_index(drop=True)\n",
    "df9 = df[(df.customer == 'PROSPECT') & (df.device == 'Tablet')].reset_index(drop=True)\n"
   ]
  },
  {
   "cell_type": "code",
   "execution_count": 121,
   "metadata": {},
   "outputs": [],
   "source": [
    "sd = pd.read_csv('validate.csv')"
   ]
  },
  {
   "cell_type": "code",
   "execution_count": 122,
   "metadata": {},
   "outputs": [
    {
     "data": {
      "text/plain": [
       "Index(['totalshoppertraffic_visitors', 'totalshoppertraffic_visits',\n",
       "       'digital_orders', 'aal_orders', 'eup_orders', 'nao_orders',\n",
       "       'nse_orders', 'nso_orders', 'nsp_orders', 'npp_orders', 'total_orders',\n",
       "       'cust_prospect_ind', 'visit_device_type', 'event_dt'],\n",
       "      dtype='object')"
      ]
     },
     "execution_count": 122,
     "metadata": {},
     "output_type": "execute_result"
    }
   ],
   "source": [
    "sd.columns"
   ]
  },
  {
   "cell_type": "code",
   "execution_count": 123,
   "metadata": {},
   "outputs": [],
   "source": [
    "sd = sd[['totalshoppertraffic_visitors','digital_orders','cust_prospect_ind','visit_device_type','event_dt']]"
   ]
  },
  {
   "cell_type": "code",
   "execution_count": null,
   "metadata": {},
   "outputs": [],
   "source": []
  },
  {
   "cell_type": "code",
   "execution_count": 124,
   "metadata": {},
   "outputs": [],
   "source": [
    "sd.columns = ['visitors','orders','customer','device','date']"
   ]
  },
  {
   "cell_type": "code",
   "execution_count": 125,
   "metadata": {},
   "outputs": [],
   "source": [
    "sd.date = pd.to_datetime(sd.date)"
   ]
  },
  {
   "cell_type": "code",
   "execution_count": 126,
   "metadata": {},
   "outputs": [],
   "source": [
    "sd = sd.sort_values(by=['date']).reset_index(drop=True)"
   ]
  },
  {
   "cell_type": "code",
   "execution_count": 127,
   "metadata": {},
   "outputs": [],
   "source": [
    "sd = sd[sd.device!='Gaming Console']\n",
    "sd = sd[sd.device!='E-Reader']"
   ]
  },
  {
   "cell_type": "code",
   "execution_count": 136,
   "metadata": {},
   "outputs": [],
   "source": [
    "#sd = sd.tail(112).reset_index(drop=True)"
   ]
  },
  {
   "cell_type": "code",
   "execution_count": 137,
   "metadata": {},
   "outputs": [],
   "source": [
    "sd = sd.tail(128).reset_index(drop=True)"
   ]
  },
  {
   "cell_type": "code",
   "execution_count": 138,
   "metadata": {},
   "outputs": [],
   "source": [
    "sd['rate'] = sd.orders/sd.visitors"
   ]
  },
  {
   "cell_type": "code",
   "execution_count": 139,
   "metadata": {},
   "outputs": [],
   "source": [
    "sd0 = sd[(sd.customer == 'All Visitors') & (sd.device == 'All Devices')].reset_index(drop=True)\n",
    "\n",
    "sd1 = sd[(sd.customer == 'CUSTOMER') & (sd.device == 'Mobile Phone')].reset_index(drop=True)\n",
    "sd2 = sd[(sd.customer == 'CUSTOMER') & (sd.device == 'Desktop')].reset_index(drop=True)\n",
    "sd3 = sd[(sd.customer == 'CUSTOMER') & (sd.device == 'Tablet')].reset_index(drop=True)\n",
    "\n",
    "sd4 = sd[(sd.customer == 'UNDETERMINED') & (sd.device == 'Mobile Phone')].reset_index(drop=True)\n",
    "sd5 = sd[(sd.customer == 'UNDETERMINED') & (sd.device == 'Desktop')].reset_index(drop=True)\n",
    "sd6 = sd[(sd.customer == 'UNDETERMINED') & (sd.device == 'Tablet')].reset_index(drop=True)\n",
    "\n",
    "sd7 = sd[(sd.customer == 'PROSPECT') & (sd.device == 'Mobile Phone')].reset_index(drop=True)\n",
    "sd8 = sd[(sd.customer == 'PROSPECT') & (sd.device == 'Desktop')].reset_index(drop=True)\n",
    "sd9 = sd[(sd.customer == 'PROSPECT') & (sd.device == 'Tablet')].reset_index(drop=True)\n"
   ]
  },
  {
   "cell_type": "code",
   "execution_count": 140,
   "metadata": {},
   "outputs": [],
   "source": [
    "def rmse(pred,test):\n",
    "    pred = np.array(pred)\n",
    "    test = np.array(test)\n",
    "    return math.sqrt(sum(((pred-test)**2)))"
   ]
  },
  {
   "cell_type": "code",
   "execution_count": 151,
   "metadata": {},
   "outputs": [],
   "source": [
    "def mase(pred,test):\n",
    "    naive = test[0]*7\n",
    "    mad_pred = mean_absolute_error(pred,test[1:])\n",
    "    mad_naive = mean_absolute_error(test[1:],naive)\n",
    "    return mad_pred/mad_naive\n",
    "    "
   ]
  },
  {
   "cell_type": "code",
   "execution_count": 142,
   "metadata": {},
   "outputs": [],
   "source": [
    "def mape(y_true, y_pred): \n",
    "    y_true = np.array(y_true)\n",
    "    y_pred = np.array(y_pred)\n",
    "    return np.mean(np.abs((y_true - y_pred) / y_true)) * 100"
   ]
  },
  {
   "cell_type": "code",
   "execution_count": 145,
   "metadata": {},
   "outputs": [],
   "source": [
    "l = [[df0,sd0],[df1,sd1],[df2,sd2],[df3,sd3],[df4,sd4],[df5,sd5],[df6,sd6],[df7,sd7],[df8,sd8],[df9,sd9]]"
   ]
  },
  {
   "cell_type": "code",
   "execution_count": 146,
   "metadata": {},
   "outputs": [
    {
     "data": {
      "text/html": [
       "<div>\n",
       "<style scoped>\n",
       "    .dataframe tbody tr th:only-of-type {\n",
       "        vertical-align: middle;\n",
       "    }\n",
       "\n",
       "    .dataframe tbody tr th {\n",
       "        vertical-align: top;\n",
       "    }\n",
       "\n",
       "    .dataframe thead th {\n",
       "        text-align: right;\n",
       "    }\n",
       "</style>\n",
       "<table border=\"1\" class=\"dataframe\">\n",
       "  <thead>\n",
       "    <tr style=\"text-align: right;\">\n",
       "      <th></th>\n",
       "      <th>visitors</th>\n",
       "      <th>orders</th>\n",
       "      <th>customer</th>\n",
       "      <th>device</th>\n",
       "      <th>date</th>\n",
       "      <th>rate</th>\n",
       "    </tr>\n",
       "  </thead>\n",
       "  <tbody>\n",
       "    <tr>\n",
       "      <th>0</th>\n",
       "      <td>567274</td>\n",
       "      <td>4873</td>\n",
       "      <td>All Visitors</td>\n",
       "      <td>All Devices</td>\n",
       "      <td>2019-03-24</td>\n",
       "      <td>0.008590</td>\n",
       "    </tr>\n",
       "    <tr>\n",
       "      <th>1</th>\n",
       "      <td>647800</td>\n",
       "      <td>6545</td>\n",
       "      <td>All Visitors</td>\n",
       "      <td>All Devices</td>\n",
       "      <td>2019-03-25</td>\n",
       "      <td>0.010103</td>\n",
       "    </tr>\n",
       "    <tr>\n",
       "      <th>2</th>\n",
       "      <td>654935</td>\n",
       "      <td>6258</td>\n",
       "      <td>All Visitors</td>\n",
       "      <td>All Devices</td>\n",
       "      <td>2019-03-26</td>\n",
       "      <td>0.009555</td>\n",
       "    </tr>\n",
       "    <tr>\n",
       "      <th>3</th>\n",
       "      <td>665719</td>\n",
       "      <td>6333</td>\n",
       "      <td>All Visitors</td>\n",
       "      <td>All Devices</td>\n",
       "      <td>2019-03-27</td>\n",
       "      <td>0.009513</td>\n",
       "    </tr>\n",
       "    <tr>\n",
       "      <th>4</th>\n",
       "      <td>686746</td>\n",
       "      <td>6075</td>\n",
       "      <td>All Visitors</td>\n",
       "      <td>All Devices</td>\n",
       "      <td>2019-03-28</td>\n",
       "      <td>0.008846</td>\n",
       "    </tr>\n",
       "    <tr>\n",
       "      <th>5</th>\n",
       "      <td>706084</td>\n",
       "      <td>6060</td>\n",
       "      <td>All Visitors</td>\n",
       "      <td>All Devices</td>\n",
       "      <td>2019-03-29</td>\n",
       "      <td>0.008583</td>\n",
       "    </tr>\n",
       "    <tr>\n",
       "      <th>6</th>\n",
       "      <td>624053</td>\n",
       "      <td>5448</td>\n",
       "      <td>All Visitors</td>\n",
       "      <td>All Devices</td>\n",
       "      <td>2019-03-30</td>\n",
       "      <td>0.008730</td>\n",
       "    </tr>\n",
       "    <tr>\n",
       "      <th>7</th>\n",
       "      <td>599866</td>\n",
       "      <td>5447</td>\n",
       "      <td>All Visitors</td>\n",
       "      <td>All Devices</td>\n",
       "      <td>2019-03-31</td>\n",
       "      <td>0.009080</td>\n",
       "    </tr>\n",
       "  </tbody>\n",
       "</table>\n",
       "</div>"
      ],
      "text/plain": [
       "   visitors  orders      customer       device       date      rate\n",
       "0    567274    4873  All Visitors  All Devices 2019-03-24  0.008590\n",
       "1    647800    6545  All Visitors  All Devices 2019-03-25  0.010103\n",
       "2    654935    6258  All Visitors  All Devices 2019-03-26  0.009555\n",
       "3    665719    6333  All Visitors  All Devices 2019-03-27  0.009513\n",
       "4    686746    6075  All Visitors  All Devices 2019-03-28  0.008846\n",
       "5    706084    6060  All Visitors  All Devices 2019-03-29  0.008583\n",
       "6    624053    5448  All Visitors  All Devices 2019-03-30  0.008730\n",
       "7    599866    5447  All Visitors  All Devices 2019-03-31  0.009080"
      ]
     },
     "execution_count": 146,
     "metadata": {},
     "output_type": "execute_result"
    }
   ],
   "source": [
    "sd0"
   ]
  },
  {
   "cell_type": "code",
   "execution_count": 158,
   "metadata": {},
   "outputs": [],
   "source": [
    "def mase(pred,test):\n",
    "    naive = [test[0]]*7\n",
    "    mad_pred = mean_absolute_error(pred,test[1:])\n",
    "    mad_naive = mean_absolute_error(test[1:],naive)\n",
    "    return mad_pred/mad_naive\n",
    "    "
   ]
  },
  {
   "cell_type": "code",
   "execution_count": 194,
   "metadata": {},
   "outputs": [],
   "source": [
    "def mae(pred,test):\n",
    "    return mean_absolute_error(pred,test)"
   ]
  },
  {
   "cell_type": "code",
   "execution_count": 157,
   "metadata": {},
   "outputs": [
    {
     "data": {
      "text/plain": [
       "3970918"
      ]
     },
     "execution_count": 157,
     "metadata": {},
     "output_type": "execute_result"
    }
   ],
   "source": [
    "pred = df0.visitors\n",
    "test = sd0.visitors\n",
    "naive = test[0\n",
    "naive"
   ]
  },
  {
   "cell_type": "code",
   "execution_count": 159,
   "metadata": {},
   "outputs": [
    {
     "data": {
      "text/plain": [
       "0.2357319476554408"
      ]
     },
     "execution_count": 159,
     "metadata": {},
     "output_type": "execute_result"
    }
   ],
   "source": [
    "mase(df0.visitors, sd0.visitors)"
   ]
  },
  {
   "cell_type": "code",
   "execution_count": 196,
   "metadata": {},
   "outputs": [],
   "source": [
    "V_RMSE = []\n",
    "V_MAPE=[]\n",
    "V_MASE = []\n",
    "V_MAE=[]\n",
    "O_RMSE = []\n",
    "O_MAPE=[]\n",
    "O_MASE=[]\n",
    "O_MAE=[]\n",
    "R_RMSE = []\n",
    "R_MAPE=[]\n",
    "R_MASE=[]\n",
    "R_MAE=[]\n",
    "for i in l:\n",
    "    V_RMSE.append(rmse(i[0].visitors,i[1].visitors[1:]))\n",
    "    V_MAPE.append(mape(i[0].visitors,i[1].visitors[1:]))\n",
    "    V_MAE.append(mae(i[0].visitors,i[1].visitors[1:]))\n",
    "\n",
    "    V_MASE.append(mase(i[0].visitors, i[1].visitors))\n",
    "    \n",
    "    O_RMSE.append(rmse(i[0].orders,i[1].orders[1:]))\n",
    "    O_MAPE.append(mape(i[0].orders,i[1].orders[1:]))\n",
    "    O_MASE.append(mase(i[0].orders, i[1].orders))\n",
    "    O_MAE.append(mae(i[0].orders,i[1].orders[1:]))\n",
    "\n",
    "    \n",
    "    R_RMSE.append(rmse(i[0].rate,i[1].rate[1:]))\n",
    "    R_MAPE.append(mape(i[0].rate,i[1].rate[1:]))\n",
    "    \n",
    "    R_MASE.append(mase(i[0].rate, i[1].rate))\n",
    "    R_MAE.append(mae(i[0].rate,i[1].rate[1:]))\n"
   ]
  },
  {
   "cell_type": "code",
   "execution_count": 201,
   "metadata": {},
   "outputs": [],
   "source": [
    "visitor = pd.DataFrame(np.stack([V_RMSE,V_MAE,V_MAPE, V_MASE],1))"
   ]
  },
  {
   "cell_type": "code",
   "execution_count": 189,
   "metadata": {},
   "outputs": [],
   "source": []
  },
  {
   "cell_type": "code",
   "execution_count": 203,
   "metadata": {},
   "outputs": [],
   "source": [
    "order = pd.DataFrame(np.stack([O_RMSE,O_MAE,O_MAPE, O_MASE],1))"
   ]
  },
  {
   "cell_type": "code",
   "execution_count": 204,
   "metadata": {},
   "outputs": [],
   "source": [
    "rate = pd.DataFrame(np.stack([R_RMSE,R_MAE,R_MAPE,R_MASE],1))"
   ]
  },
  {
   "cell_type": "code",
   "execution_count": 208,
   "metadata": {},
   "outputs": [],
   "source": [
    "pd.concat([visitor,order,rate],axis=1).to_csv('metrics.csv')"
   ]
  },
  {
   "cell_type": "code",
   "execution_count": null,
   "metadata": {},
   "outputs": [],
   "source": []
  }
 ],
 "metadata": {
  "kernelspec": {
   "display_name": "Python 3",
   "language": "python",
   "name": "python3"
  },
  "language_info": {
   "codemirror_mode": {
    "name": "ipython",
    "version": 3
   },
   "file_extension": ".py",
   "mimetype": "text/x-python",
   "name": "python",
   "nbconvert_exporter": "python",
   "pygments_lexer": "ipython3",
   "version": "3.7.3"
  }
 },
 "nbformat": 4,
 "nbformat_minor": 2
}
