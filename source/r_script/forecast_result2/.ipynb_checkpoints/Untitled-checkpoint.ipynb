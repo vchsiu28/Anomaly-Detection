{
 "cells": [
  {
   "cell_type": "code",
   "execution_count": 71,
   "metadata": {},
   "outputs": [],
   "source": [
    "import pandas as pd\n",
    "import numpy as np\n",
    "from scipy import stats\n",
    "from sklearn.metrics import mean_absolute_error\n",
    "import math"
   ]
  },
  {
   "cell_type": "code",
   "execution_count": 10,
   "metadata": {},
   "outputs": [],
   "source": [
    "df = pd.read_csv('result.csv')\n",
    "df = df.iloc[:,np.arange(6)]\n",
    "df.columns = ['customer','device','date','visitors','orders','rate']"
   ]
  },
  {
   "cell_type": "code",
   "execution_count": 91,
   "metadata": {},
   "outputs": [],
   "source": [
    "df=pd.read_csv('forecast.csv')\n",
    "df.columns = ['date','visitors','orders','rate','customer','device']"
   ]
  },
  {
   "cell_type": "code",
   "execution_count": 95,
   "metadata": {},
   "outputs": [],
   "source": [
    "df0 = df[(df.customer == 'All Visitors') & (df.device == 'All Devices')].reset_index(drop=True)\n",
    "\n",
    "df1 = df[(df.customer == 'CUSTOMER') & (df.device == 'Mobile Phone')].reset_index(drop=True)\n",
    "df2 = df[(df.customer == 'CUSTOMER') & (df.device == 'Desktop')].reset_index(drop=True)\n",
    "df3 = df[(df.customer == 'CUSTOMER') & (df.device == 'Tablet')].reset_index(drop=True)\n",
    "\n",
    "df4 = df[(df.customer == 'UNDETERMINED') & (df.device == 'Mobile Phone')].reset_index(drop=True)\n",
    "df5 = df[(df.customer == 'UNDETERMINED') & (df.device == 'Desktop')].reset_index(drop=True)\n",
    "df6 = df[(df.customer == 'UNDETERMINED') & (df.device == 'Tablet')].reset_index(drop=True)\n",
    "\n",
    "df7 = df[(df.customer == 'PROSPECT') & (df.device == 'Mobile Phone')].reset_index(drop=True)\n",
    "df8 = df[(df.customer == 'PROSPECT') & (df.device == 'Desktop')].reset_index(drop=True)\n",
    "df9 = df[(df.customer == 'PROSPECT') & (df.device == 'Tablet')].reset_index(drop=True)\n"
   ]
  },
  {
   "cell_type": "code",
   "execution_count": 121,
   "metadata": {},
   "outputs": [],
   "source": [
    "sd = pd.read_csv('validate.csv')"
   ]
  },
  {
   "cell_type": "code",
   "execution_count": 122,
   "metadata": {},
   "outputs": [
    {
     "data": {
      "text/plain": [
       "Index(['totalshoppertraffic_visitors', 'totalshoppertraffic_visits',\n",
       "       'digital_orders', 'aal_orders', 'eup_orders', 'nao_orders',\n",
       "       'nse_orders', 'nso_orders', 'nsp_orders', 'npp_orders', 'total_orders',\n",
       "       'cust_prospect_ind', 'visit_device_type', 'event_dt'],\n",
       "      dtype='object')"
      ]
     },
     "execution_count": 122,
     "metadata": {},
     "output_type": "execute_result"
    }
   ],
   "source": [
    "sd.columns"
   ]
  },
  {
   "cell_type": "code",
   "execution_count": 123,
   "metadata": {},
   "outputs": [],
   "source": [
    "sd = sd[['totalshoppertraffic_visitors','digital_orders','cust_prospect_ind','visit_device_type','event_dt']]"
   ]
  },
  {
   "cell_type": "code",
   "execution_count": null,
   "metadata": {},
   "outputs": [],
   "source": []
  },
  {
   "cell_type": "code",
   "execution_count": 124,
   "metadata": {},
   "outputs": [],
   "source": [
    "sd.columns = ['visitors','orders','customer','device','date']"
   ]
  },
  {
   "cell_type": "code",
   "execution_count": 125,
   "metadata": {},
   "outputs": [],
   "source": [
    "sd.date = pd.to_datetime(sd.date)"
   ]
  },
  {
   "cell_type": "code",
   "execution_count": 126,
   "metadata": {},
   "outputs": [],
   "source": [
    "sd = sd.sort_values(by=['date']).reset_index(drop=True)"
   ]
  },
  {
   "cell_type": "code",
   "execution_count": 127,
   "metadata": {},
   "outputs": [],
   "source": [
    "sd = sd[sd.device!='Gaming Console']\n",
    "sd = sd[sd.device!='E-Reader']"
   ]
  },
  {
   "cell_type": "code",
   "execution_count": 136,
   "metadata": {},
   "outputs": [],
   "source": [
    "#sd = sd.tail(112).reset_index(drop=True)"
   ]
  },
  {
   "cell_type": "code",
   "execution_count": 137,
   "metadata": {},
   "outputs": [],
   "source": [
    "sd = sd.tail(128).reset_index(drop=True)"
   ]
  },
  {
   "cell_type": "code",
   "execution_count": 138,
   "metadata": {},
   "outputs": [],
   "source": [
    "sd['rate'] = sd.orders/sd.visitors"
   ]
  },
  {
   "cell_type": "code",
   "execution_count": 139,
   "metadata": {},
   "outputs": [],
   "source": [
    "sd0 = sd[(sd.customer == 'All Visitors') & (sd.device == 'All Devices')].reset_index(drop=True)\n",
    "\n",
    "sd1 = sd[(sd.customer == 'CUSTOMER') & (sd.device == 'Mobile Phone')].reset_index(drop=True)\n",
    "sd2 = sd[(sd.customer == 'CUSTOMER') & (sd.device == 'Desktop')].reset_index(drop=True)\n",
    "sd3 = sd[(sd.customer == 'CUSTOMER') & (sd.device == 'Tablet')].reset_index(drop=True)\n",
    "\n",
    "sd4 = sd[(sd.customer == 'UNDETERMINED') & (sd.device == 'Mobile Phone')].reset_index(drop=True)\n",
    "sd5 = sd[(sd.customer == 'UNDETERMINED') & (sd.device == 'Desktop')].reset_index(drop=True)\n",
    "sd6 = sd[(sd.customer == 'UNDETERMINED') & (sd.device == 'Tablet')].reset_index(drop=True)\n",
    "\n",
    "sd7 = sd[(sd.customer == 'PROSPECT') & (sd.device == 'Mobile Phone')].reset_index(drop=True)\n",
    "sd8 = sd[(sd.customer == 'PROSPECT') & (sd.device == 'Desktop')].reset_index(drop=True)\n",
    "sd9 = sd[(sd.customer == 'PROSPECT') & (sd.device == 'Tablet')].reset_index(drop=True)\n"
   ]
  },
  {
   "cell_type": "code",
   "execution_count": 140,
   "metadata": {},
   "outputs": [],
   "source": [
    "def rmse(pred,test):\n",
    "    pred = np.array(pred)\n",
    "    test = np.array(test)\n",
    "    return math.sqrt(sum(((pred-test)**2)))"
   ]
  },
  {
   "cell_type": "code",
   "execution_count": 141,
   "metadata": {},
   "outputs": [],
   "source": [
    "def mase(pred,test,naive):\n",
    "    mad_pred = mean_absolute_error(pred,test)\n",
    "    mad_naive = mean_absolute_error(test,naive)\n",
    "    return mad_pred/mad_naive\n",
    "    "
   ]
  },
  {
   "cell_type": "code",
   "execution_count": 142,
   "metadata": {},
   "outputs": [],
   "source": [
    "def mape(y_true, y_pred): \n",
    "    y_true = np.array(y_true)\n",
    "    y_pred = np.array(y_pred)\n",
    "    return np.mean(np.abs((y_true - y_pred) / y_true)) * 100"
   ]
  },
  {
   "cell_type": "code",
   "execution_count": 143,
   "metadata": {},
   "outputs": [
    {
     "ename": "ValueError",
     "evalue": "operands could not be broadcast together with shapes (7,) (8,) ",
     "output_type": "error",
     "traceback": [
      "\u001b[0;31m---------------------------------------------------------------------------\u001b[0m",
      "\u001b[0;31mValueError\u001b[0m                                Traceback (most recent call last)",
      "\u001b[0;32m<ipython-input-143-c1543e1405d0>\u001b[0m in \u001b[0;36m<module>\u001b[0;34m\u001b[0m\n\u001b[0;32m----> 1\u001b[0;31m \u001b[0mrmse\u001b[0m\u001b[0;34m(\u001b[0m\u001b[0mdf0\u001b[0m\u001b[0;34m.\u001b[0m\u001b[0mvisitors\u001b[0m\u001b[0;34m,\u001b[0m \u001b[0msd0\u001b[0m\u001b[0;34m.\u001b[0m\u001b[0mvisitors\u001b[0m\u001b[0;34m)\u001b[0m\u001b[0;34m\u001b[0m\u001b[0;34m\u001b[0m\u001b[0m\n\u001b[0m",
      "\u001b[0;32m<ipython-input-140-7f0ef38cbc57>\u001b[0m in \u001b[0;36mrmse\u001b[0;34m(pred, test)\u001b[0m\n\u001b[1;32m      2\u001b[0m     \u001b[0mpred\u001b[0m \u001b[0;34m=\u001b[0m \u001b[0mnp\u001b[0m\u001b[0;34m.\u001b[0m\u001b[0marray\u001b[0m\u001b[0;34m(\u001b[0m\u001b[0mpred\u001b[0m\u001b[0;34m)\u001b[0m\u001b[0;34m\u001b[0m\u001b[0;34m\u001b[0m\u001b[0m\n\u001b[1;32m      3\u001b[0m     \u001b[0mtest\u001b[0m \u001b[0;34m=\u001b[0m \u001b[0mnp\u001b[0m\u001b[0;34m.\u001b[0m\u001b[0marray\u001b[0m\u001b[0;34m(\u001b[0m\u001b[0mtest\u001b[0m\u001b[0;34m)\u001b[0m\u001b[0;34m\u001b[0m\u001b[0;34m\u001b[0m\u001b[0m\n\u001b[0;32m----> 4\u001b[0;31m     \u001b[0;32mreturn\u001b[0m \u001b[0mmath\u001b[0m\u001b[0;34m.\u001b[0m\u001b[0msqrt\u001b[0m\u001b[0;34m(\u001b[0m\u001b[0msum\u001b[0m\u001b[0;34m(\u001b[0m\u001b[0;34m(\u001b[0m\u001b[0;34m(\u001b[0m\u001b[0mpred\u001b[0m\u001b[0;34m-\u001b[0m\u001b[0mtest\u001b[0m\u001b[0;34m)\u001b[0m\u001b[0;34m**\u001b[0m\u001b[0;36m2\u001b[0m\u001b[0;34m)\u001b[0m\u001b[0;34m)\u001b[0m\u001b[0;34m)\u001b[0m\u001b[0;34m\u001b[0m\u001b[0;34m\u001b[0m\u001b[0m\n\u001b[0m",
      "\u001b[0;31mValueError\u001b[0m: operands could not be broadcast together with shapes (7,) (8,) "
     ]
    }
   ],
   "source": [
    "rmse(df0.visitors, sd0.visitors)"
   ]
  },
  {
   "cell_type": "code",
   "execution_count": 144,
   "metadata": {},
   "outputs": [
    {
     "ename": "ValueError",
     "evalue": "operands could not be broadcast together with shapes (7,) (8,) ",
     "output_type": "error",
     "traceback": [
      "\u001b[0;31m---------------------------------------------------------------------------\u001b[0m",
      "\u001b[0;31mValueError\u001b[0m                                Traceback (most recent call last)",
      "\u001b[0;32m<ipython-input-144-323f03049e26>\u001b[0m in \u001b[0;36m<module>\u001b[0;34m\u001b[0m\n\u001b[0;32m----> 1\u001b[0;31m \u001b[0mmape\u001b[0m\u001b[0;34m(\u001b[0m\u001b[0mdf0\u001b[0m\u001b[0;34m.\u001b[0m\u001b[0mvisitors\u001b[0m\u001b[0;34m,\u001b[0m \u001b[0msd0\u001b[0m\u001b[0;34m.\u001b[0m\u001b[0mvisitors\u001b[0m\u001b[0;34m)\u001b[0m\u001b[0;34m\u001b[0m\u001b[0;34m\u001b[0m\u001b[0m\n\u001b[0m",
      "\u001b[0;32m<ipython-input-142-0ca6dd68683e>\u001b[0m in \u001b[0;36mmape\u001b[0;34m(y_true, y_pred)\u001b[0m\n\u001b[1;32m      2\u001b[0m     \u001b[0my_true\u001b[0m \u001b[0;34m=\u001b[0m \u001b[0mnp\u001b[0m\u001b[0;34m.\u001b[0m\u001b[0marray\u001b[0m\u001b[0;34m(\u001b[0m\u001b[0my_true\u001b[0m\u001b[0;34m)\u001b[0m\u001b[0;34m\u001b[0m\u001b[0;34m\u001b[0m\u001b[0m\n\u001b[1;32m      3\u001b[0m     \u001b[0my_pred\u001b[0m \u001b[0;34m=\u001b[0m \u001b[0mnp\u001b[0m\u001b[0;34m.\u001b[0m\u001b[0marray\u001b[0m\u001b[0;34m(\u001b[0m\u001b[0my_pred\u001b[0m\u001b[0;34m)\u001b[0m\u001b[0;34m\u001b[0m\u001b[0;34m\u001b[0m\u001b[0m\n\u001b[0;32m----> 4\u001b[0;31m     \u001b[0;32mreturn\u001b[0m \u001b[0mnp\u001b[0m\u001b[0;34m.\u001b[0m\u001b[0mmean\u001b[0m\u001b[0;34m(\u001b[0m\u001b[0mnp\u001b[0m\u001b[0;34m.\u001b[0m\u001b[0mabs\u001b[0m\u001b[0;34m(\u001b[0m\u001b[0;34m(\u001b[0m\u001b[0my_true\u001b[0m \u001b[0;34m-\u001b[0m \u001b[0my_pred\u001b[0m\u001b[0;34m)\u001b[0m \u001b[0;34m/\u001b[0m \u001b[0my_true\u001b[0m\u001b[0;34m)\u001b[0m\u001b[0;34m)\u001b[0m \u001b[0;34m*\u001b[0m \u001b[0;36m100\u001b[0m\u001b[0;34m\u001b[0m\u001b[0;34m\u001b[0m\u001b[0m\n\u001b[0m",
      "\u001b[0;31mValueError\u001b[0m: operands could not be broadcast together with shapes (7,) (8,) "
     ]
    }
   ],
   "source": [
    "mape(df0.visitors, sd0.visitors)"
   ]
  },
  {
   "cell_type": "code",
   "execution_count": 97,
   "metadata": {},
   "outputs": [],
   "source": [
    "l = [[df0,sd0],[df1,sd1],[df2,sd2],[df3,sd3],[df4,sd4],[df5,sd5],[df6,sd6],[df7,sd7],[df8,sd8],[df9,sd9]]"
   ]
  },
  {
   "cell_type": "code",
   "execution_count": 120,
   "metadata": {},
   "outputs": [
    {
     "data": {
      "text/html": [
       "<div>\n",
       "<style scoped>\n",
       "    .dataframe tbody tr th:only-of-type {\n",
       "        vertical-align: middle;\n",
       "    }\n",
       "\n",
       "    .dataframe tbody tr th {\n",
       "        vertical-align: top;\n",
       "    }\n",
       "\n",
       "    .dataframe thead th {\n",
       "        text-align: right;\n",
       "    }\n",
       "</style>\n",
       "<table border=\"1\" class=\"dataframe\">\n",
       "  <thead>\n",
       "    <tr style=\"text-align: right;\">\n",
       "      <th></th>\n",
       "      <th>index</th>\n",
       "      <th>visitors</th>\n",
       "      <th>orders</th>\n",
       "      <th>customer</th>\n",
       "      <th>device</th>\n",
       "      <th>date</th>\n",
       "      <th>rate</th>\n",
       "    </tr>\n",
       "  </thead>\n",
       "  <tbody>\n",
       "    <tr>\n",
       "      <th>0</th>\n",
       "      <td>1079</td>\n",
       "      <td>647800</td>\n",
       "      <td>6545</td>\n",
       "      <td>All Visitors</td>\n",
       "      <td>All Devices</td>\n",
       "      <td>2019-03-25</td>\n",
       "      <td>0.010103</td>\n",
       "    </tr>\n",
       "    <tr>\n",
       "      <th>1</th>\n",
       "      <td>1103</td>\n",
       "      <td>654935</td>\n",
       "      <td>6258</td>\n",
       "      <td>All Visitors</td>\n",
       "      <td>All Devices</td>\n",
       "      <td>2019-03-26</td>\n",
       "      <td>0.009555</td>\n",
       "    </tr>\n",
       "    <tr>\n",
       "      <th>2</th>\n",
       "      <td>1119</td>\n",
       "      <td>665719</td>\n",
       "      <td>6333</td>\n",
       "      <td>All Visitors</td>\n",
       "      <td>All Devices</td>\n",
       "      <td>2019-03-27</td>\n",
       "      <td>0.009513</td>\n",
       "    </tr>\n",
       "    <tr>\n",
       "      <th>3</th>\n",
       "      <td>1137</td>\n",
       "      <td>686746</td>\n",
       "      <td>6075</td>\n",
       "      <td>All Visitors</td>\n",
       "      <td>All Devices</td>\n",
       "      <td>2019-03-28</td>\n",
       "      <td>0.008846</td>\n",
       "    </tr>\n",
       "    <tr>\n",
       "      <th>4</th>\n",
       "      <td>1157</td>\n",
       "      <td>706084</td>\n",
       "      <td>6060</td>\n",
       "      <td>All Visitors</td>\n",
       "      <td>All Devices</td>\n",
       "      <td>2019-03-29</td>\n",
       "      <td>0.008583</td>\n",
       "    </tr>\n",
       "    <tr>\n",
       "      <th>5</th>\n",
       "      <td>1180</td>\n",
       "      <td>624053</td>\n",
       "      <td>5448</td>\n",
       "      <td>All Visitors</td>\n",
       "      <td>All Devices</td>\n",
       "      <td>2019-03-30</td>\n",
       "      <td>0.008730</td>\n",
       "    </tr>\n",
       "    <tr>\n",
       "      <th>6</th>\n",
       "      <td>1202</td>\n",
       "      <td>599866</td>\n",
       "      <td>5447</td>\n",
       "      <td>All Visitors</td>\n",
       "      <td>All Devices</td>\n",
       "      <td>2019-03-31</td>\n",
       "      <td>0.009080</td>\n",
       "    </tr>\n",
       "  </tbody>\n",
       "</table>\n",
       "</div>"
      ],
      "text/plain": [
       "   index  visitors  orders      customer       device       date      rate\n",
       "0   1079    647800    6545  All Visitors  All Devices 2019-03-25  0.010103\n",
       "1   1103    654935    6258  All Visitors  All Devices 2019-03-26  0.009555\n",
       "2   1119    665719    6333  All Visitors  All Devices 2019-03-27  0.009513\n",
       "3   1137    686746    6075  All Visitors  All Devices 2019-03-28  0.008846\n",
       "4   1157    706084    6060  All Visitors  All Devices 2019-03-29  0.008583\n",
       "5   1180    624053    5448  All Visitors  All Devices 2019-03-30  0.008730\n",
       "6   1202    599866    5447  All Visitors  All Devices 2019-03-31  0.009080"
      ]
     },
     "execution_count": 120,
     "metadata": {},
     "output_type": "execute_result"
    }
   ],
   "source": [
    "sd0"
   ]
  },
  {
   "cell_type": "code",
   "execution_count": 99,
   "metadata": {},
   "outputs": [],
   "source": [
    "V_RMSE = []\n",
    "V_MAPE=[]\n",
    "O_RMSE = []\n",
    "O_MAPE=[]\n",
    "R_RMSE = []\n",
    "R_MAPE=[]\n",
    "\n",
    "for i in l:\n",
    "    V_RMSE.append(rmse(i[0].visitors,i[1].visitors))\n",
    "    V_MAPE.append(mape(i[0].visitors,i[1].visitors))\n",
    "    \n",
    "    O_RMSE.append(rmse(i[0].orders,i[1].orders))\n",
    "    O_MAPE.append(mape(i[0].orders,i[1].orders))\n",
    "    R_RMSE.append(rmse(i[0].rate,i[1].rate))\n",
    "    R_MAPE.append(mape(i[0].rate,i[1].rate))"
   ]
  },
  {
   "cell_type": "code",
   "execution_count": 119,
   "metadata": {},
   "outputs": [
    {
     "data": {
      "text/plain": [
       "array([[1.49255655e-03, 5.54141768e+00],\n",
       "       [4.94013665e-03, 1.51004467e+01],\n",
       "       [1.40451982e-02, 1.56817803e+01],\n",
       "       [2.27516851e-02, 2.66345649e+01],\n",
       "       [2.75736849e-03, 3.62434720e+01],\n",
       "       [1.42542409e-02, 6.01645150e+01],\n",
       "       [8.95672239e-03, 6.85097515e+01],\n",
       "       [2.96248388e-03, 1.81643932e+01],\n",
       "       [6.67559442e-03, 3.81243350e+01],\n",
       "       [4.34357441e-03, 4.55334470e+01]])"
      ]
     },
     "execution_count": 119,
     "metadata": {},
     "output_type": "execute_result"
    }
   ],
   "source": [
    "np.stack([V_RMSE,V_MAPE],1)\n",
    "np.stack([O_RMSE,O_MAPE],1)\n",
    "np.stack([R_RMSE,R_MAPE],1)"
   ]
  },
  {
   "cell_type": "code",
   "execution_count": 110,
   "metadata": {},
   "outputs": [
    {
     "data": {
      "text/html": [
       "<div>\n",
       "<style scoped>\n",
       "    .dataframe tbody tr th:only-of-type {\n",
       "        vertical-align: middle;\n",
       "    }\n",
       "\n",
       "    .dataframe tbody tr th {\n",
       "        vertical-align: top;\n",
       "    }\n",
       "\n",
       "    .dataframe thead th {\n",
       "        text-align: right;\n",
       "    }\n",
       "</style>\n",
       "<table border=\"1\" class=\"dataframe\">\n",
       "  <thead>\n",
       "    <tr style=\"text-align: right;\">\n",
       "      <th></th>\n",
       "      <th>index</th>\n",
       "      <th>visitors</th>\n",
       "      <th>orders</th>\n",
       "      <th>customer</th>\n",
       "      <th>device</th>\n",
       "      <th>date</th>\n",
       "      <th>rate</th>\n",
       "    </tr>\n",
       "  </thead>\n",
       "  <tbody>\n",
       "    <tr>\n",
       "      <th>0</th>\n",
       "      <td>1085</td>\n",
       "      <td>14217</td>\n",
       "      <td>327</td>\n",
       "      <td>CUSTOMER</td>\n",
       "      <td>Tablet</td>\n",
       "      <td>2019-03-25</td>\n",
       "      <td>0.023001</td>\n",
       "    </tr>\n",
       "    <tr>\n",
       "      <th>1</th>\n",
       "      <td>1090</td>\n",
       "      <td>13932</td>\n",
       "      <td>296</td>\n",
       "      <td>CUSTOMER</td>\n",
       "      <td>Tablet</td>\n",
       "      <td>2019-03-26</td>\n",
       "      <td>0.021246</td>\n",
       "    </tr>\n",
       "    <tr>\n",
       "      <th>2</th>\n",
       "      <td>1127</td>\n",
       "      <td>413</td>\n",
       "      <td>2</td>\n",
       "      <td>CUSTOMER</td>\n",
       "      <td>Tablet</td>\n",
       "      <td>2019-03-27</td>\n",
       "      <td>0.004843</td>\n",
       "    </tr>\n",
       "    <tr>\n",
       "      <th>3</th>\n",
       "      <td>1145</td>\n",
       "      <td>4031</td>\n",
       "      <td>48</td>\n",
       "      <td>CUSTOMER</td>\n",
       "      <td>Tablet</td>\n",
       "      <td>2019-03-28</td>\n",
       "      <td>0.011908</td>\n",
       "    </tr>\n",
       "    <tr>\n",
       "      <th>4</th>\n",
       "      <td>1163</td>\n",
       "      <td>15102</td>\n",
       "      <td>303</td>\n",
       "      <td>CUSTOMER</td>\n",
       "      <td>Tablet</td>\n",
       "      <td>2019-03-29</td>\n",
       "      <td>0.020064</td>\n",
       "    </tr>\n",
       "    <tr>\n",
       "      <th>5</th>\n",
       "      <td>1178</td>\n",
       "      <td>16125</td>\n",
       "      <td>464</td>\n",
       "      <td>CUSTOMER</td>\n",
       "      <td>Tablet</td>\n",
       "      <td>2019-03-30</td>\n",
       "      <td>0.028775</td>\n",
       "    </tr>\n",
       "    <tr>\n",
       "      <th>6</th>\n",
       "      <td>1196</td>\n",
       "      <td>16201</td>\n",
       "      <td>409</td>\n",
       "      <td>CUSTOMER</td>\n",
       "      <td>Tablet</td>\n",
       "      <td>2019-03-31</td>\n",
       "      <td>0.025245</td>\n",
       "    </tr>\n",
       "  </tbody>\n",
       "</table>\n",
       "</div>"
      ],
      "text/plain": [
       "   index  visitors  orders  customer  device       date      rate\n",
       "0   1085     14217     327  CUSTOMER  Tablet 2019-03-25  0.023001\n",
       "1   1090     13932     296  CUSTOMER  Tablet 2019-03-26  0.021246\n",
       "2   1127       413       2  CUSTOMER  Tablet 2019-03-27  0.004843\n",
       "3   1145      4031      48  CUSTOMER  Tablet 2019-03-28  0.011908\n",
       "4   1163     15102     303  CUSTOMER  Tablet 2019-03-29  0.020064\n",
       "5   1178     16125     464  CUSTOMER  Tablet 2019-03-30  0.028775\n",
       "6   1196     16201     409  CUSTOMER  Tablet 2019-03-31  0.025245"
      ]
     },
     "execution_count": 110,
     "metadata": {},
     "output_type": "execute_result"
    }
   ],
   "source": []
  },
  {
   "cell_type": "code",
   "execution_count": null,
   "metadata": {},
   "outputs": [],
   "source": []
  }
 ],
 "metadata": {
  "kernelspec": {
   "display_name": "Python 3",
   "language": "python",
   "name": "python3"
  },
  "language_info": {
   "codemirror_mode": {
    "name": "ipython",
    "version": 3
   },
   "file_extension": ".py",
   "mimetype": "text/x-python",
   "name": "python",
   "nbconvert_exporter": "python",
   "pygments_lexer": "ipython3",
   "version": "3.7.3"
  }
 },
 "nbformat": 4,
 "nbformat_minor": 2
}
