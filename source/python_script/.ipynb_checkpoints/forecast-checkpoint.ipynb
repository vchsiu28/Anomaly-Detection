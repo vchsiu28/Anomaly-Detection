{
 "cells": [
  {
   "cell_type": "code",
   "execution_count": 51,
   "metadata": {},
   "outputs": [],
   "source": [
    "import pandas as pd\n",
    "import numpy as np\n",
    "import datetime as dt\n",
    "from datetime import datetime\n",
    "from datetime import timedelta\n",
    "import math"
   ]
  },
  {
   "cell_type": "code",
   "execution_count": 27,
   "metadata": {},
   "outputs": [],
   "source": [
    "from statsmodels.tsa.arima_model import ARIMA\n",
    "import pmdarima as pm\n",
    "from statsmodels.tsa.holtwinters import ExponentialSmoothing\n"
   ]
  },
  {
   "cell_type": "code",
   "execution_count": 3,
   "metadata": {},
   "outputs": [],
   "source": [
    "df = pd.read_csv('anomaly_det_dashboard_shopper_conv.csv')\n",
    "df = df[['totalshoppertraffic_visitors','digital_orders','cust_prospect_ind','visit_device_type','event_dt']]\n",
    "df.columns = ['visitor','order','customer','device','date']\n",
    "df['rate'] = df.order/df.visitor\n",
    "df.date = pd.to_datetime(df.date)\n",
    "df = df.sort_values(by=['date']).reset_index(drop=True)\n",
    "\n",
    "df = df[df.device != 'Gaming Consle']\n",
    "df = df[df.device != 'E-Reader']\n",
    "\n",
    "df0 = df[(df.customer == 'All Visitors') & (df.device == 'All Devices')].reset_index(drop=True)\n",
    "\n",
    "df1 = df[(df.customer == 'CUSTOMER') & (df.device == 'Mobile Phone')].reset_index(drop=True)\n",
    "df2 = df[(df.customer == 'CUSTOMER') & (df.device == 'Desktop')].reset_index(drop=True)\n",
    "df3 = df[(df.customer == 'CUSTOMER') & (df.device == 'Tablet')].reset_index(drop=True)\n",
    "\n",
    "df4 = df[(df.customer == 'UNDETERMINED') & (df.device == 'Mobile Phone')].reset_index(drop=True)\n",
    "df5 = df[(df.customer == 'UNDETERMINED') & (df.device == 'Desktop')].reset_index(drop=True)\n",
    "df6 = df[(df.customer == 'UNDETERMINED') & (df.device == 'Tablet')].reset_index(drop=True)\n",
    "\n",
    "df7 = df[(df.customer == 'PROSPECT') & (df.device == 'Mobile Phone')].reset_index(drop=True)\n",
    "df8 = df[(df.customer == 'PROSPECT') & (df.device == 'Desktop')].reset_index(drop=True)\n",
    "df9 = df[(df.customer == 'PROSPECT') & (df.device == 'Tablet')].reset_index(drop=True)"
   ]
  },
  {
   "cell_type": "code",
   "execution_count": 23,
   "metadata": {},
   "outputs": [],
   "source": [
    "def model1(data):\n",
    "    try:\n",
    "        model = ARIMA(data, order=(1,0,1))\n",
    "    except:\n",
    "        model = ARIMA(data, order=(2,0,1))\n",
    "   \n",
    "    fit = model.fit()\n",
    "    result = fit.forecast(7)[0]\n",
    "\n",
    "    return result\n",
    "    \n"
   ]
  },
  {
   "cell_type": "code",
   "execution_count": 42,
   "metadata": {},
   "outputs": [],
   "source": [
    "def model2(data):\n",
    "    data = data.astype(float)\n",
    "    model = ExponentialSmoothing(data, trend=\"add\", seasonal=\"add\", seasonal_periods=7)\n",
    "    result = model.fit().forecast(7)\n",
    "    return result\n",
    "    "
   ]
  },
  {
   "cell_type": "code",
   "execution_count": 48,
   "metadata": {},
   "outputs": [],
   "source": [
    "def model3(data):\n",
    "    data = data.astype(float)\n",
    "    model = ExponentialSmoothing(data, seasonal=\"add\", seasonal_periods=7)\n",
    "    result = model.fit().forecast(7)\n",
    "    return result"
   ]
  },
  {
   "cell_type": "code",
   "execution_count": 80,
   "metadata": {},
   "outputs": [],
   "source": [
    "d_list = [df0, df1, df2, df3, df4, df5, df6, df7, df8, df9]"
   ]
  },
  {
   "cell_type": "code",
   "execution_count": 82,
   "metadata": {},
   "outputs": [],
   "source": [
    "def forecast(df):\n",
    "    v = model2(df.visitor)\n",
    "    o = model3(df.order)\n",
    "    r = model1(df.rate)\n",
    "    customer = df.customer[:7]\n",
    "    device = df.device[:7]\n",
    "    days = pd.date_range(max(df.date) + timedelta(days=1), periods=7)\n",
    "    result = pd.DataFrame({'date':days, \n",
    "                           'visitor_forecast':v, 'order_forecaset':o, 'rate_forecast':r}).reset_index(drop=True)\n",
    "    result['custoer'] = customer\n",
    "    result['device'] = device\n",
    "    return result"
   ]
  },
  {
   "cell_type": "code",
   "execution_count": 83,
   "metadata": {},
   "outputs": [],
   "source": [
    "result = forecast(d_list[0])\n",
    "for d in d_list[1:]:\n",
    "    result = pd.concat([result,forecast(d)])\n"
   ]
  },
  {
   "cell_type": "code",
   "execution_count": 85,
   "metadata": {},
   "outputs": [],
   "source": [
    "result = result.reset_index(drop=True)"
   ]
  },
  {
   "cell_type": "code",
   "execution_count": 86,
   "metadata": {},
   "outputs": [],
   "source": [
    "result.to_csv('forecast.csv',index=False)"
   ]
  },
  {
   "cell_type": "code",
   "execution_count": null,
   "metadata": {},
   "outputs": [],
   "source": []
  }
 ],
 "metadata": {
  "kernelspec": {
   "display_name": "Python 3",
   "language": "python",
   "name": "python3"
  },
  "language_info": {
   "codemirror_mode": {
    "name": "ipython",
    "version": 3
   },
   "file_extension": ".py",
   "mimetype": "text/x-python",
   "name": "python",
   "nbconvert_exporter": "python",
   "pygments_lexer": "ipython3",
   "version": "3.7.3"
  }
 },
 "nbformat": 4,
 "nbformat_minor": 2
}
