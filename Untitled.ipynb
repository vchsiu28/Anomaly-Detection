{
 "cells": [
  {
   "cell_type": "code",
   "execution_count": 18,
   "metadata": {},
   "outputs": [],
   "source": [
    "import pandas as pd\n",
    "import datetime as dt"
   ]
  },
  {
   "cell_type": "code",
   "execution_count": 2,
   "metadata": {},
   "outputs": [],
   "source": [
    "df = pd.read_csv('data.csv')"
   ]
  },
  {
   "cell_type": "code",
   "execution_count": 3,
   "metadata": {},
   "outputs": [
    {
     "data": {
      "text/html": [
       "<div>\n",
       "<style scoped>\n",
       "    .dataframe tbody tr th:only-of-type {\n",
       "        vertical-align: middle;\n",
       "    }\n",
       "\n",
       "    .dataframe tbody tr th {\n",
       "        vertical-align: top;\n",
       "    }\n",
       "\n",
       "    .dataframe thead th {\n",
       "        text-align: right;\n",
       "    }\n",
       "</style>\n",
       "<table border=\"1\" class=\"dataframe\">\n",
       "  <thead>\n",
       "    <tr style=\"text-align: right;\">\n",
       "      <th></th>\n",
       "      <th>totalshoppertraffic_visitors</th>\n",
       "      <th>digital_orders</th>\n",
       "      <th>cust_prospect_ind</th>\n",
       "      <th>visit_device_type</th>\n",
       "      <th>event_dt</th>\n",
       "      <th>rate</th>\n",
       "    </tr>\n",
       "  </thead>\n",
       "  <tbody>\n",
       "    <tr>\n",
       "      <th>0</th>\n",
       "      <td>360930</td>\n",
       "      <td>1024</td>\n",
       "      <td>UNDETERMINED</td>\n",
       "      <td>All Devices</td>\n",
       "      <td>3/12/19</td>\n",
       "      <td>0.283712</td>\n",
       "    </tr>\n",
       "    <tr>\n",
       "      <th>1</th>\n",
       "      <td>13030</td>\n",
       "      <td>291</td>\n",
       "      <td>CUSTOMER</td>\n",
       "      <td>Tablet</td>\n",
       "      <td>3/12/19</td>\n",
       "      <td>2.233308</td>\n",
       "    </tr>\n",
       "    <tr>\n",
       "      <th>2</th>\n",
       "      <td>927</td>\n",
       "      <td>0</td>\n",
       "      <td>UNDETERMINED</td>\n",
       "      <td>Gaming Console</td>\n",
       "      <td>3/12/19</td>\n",
       "      <td>0.000000</td>\n",
       "    </tr>\n",
       "    <tr>\n",
       "      <th>3</th>\n",
       "      <td>251155</td>\n",
       "      <td>4879</td>\n",
       "      <td>CUSTOMER</td>\n",
       "      <td>All Devices</td>\n",
       "      <td>3/12/19</td>\n",
       "      <td>1.942625</td>\n",
       "    </tr>\n",
       "    <tr>\n",
       "      <th>4</th>\n",
       "      <td>161097</td>\n",
       "      <td>3820</td>\n",
       "      <td>CUSTOMER</td>\n",
       "      <td>Desktop</td>\n",
       "      <td>3/12/19</td>\n",
       "      <td>2.371242</td>\n",
       "    </tr>\n",
       "  </tbody>\n",
       "</table>\n",
       "</div>"
      ],
      "text/plain": [
       "   totalshoppertraffic_visitors  digital_orders cust_prospect_ind  \\\n",
       "0                        360930            1024      UNDETERMINED   \n",
       "1                         13030             291          CUSTOMER   \n",
       "2                           927               0      UNDETERMINED   \n",
       "3                        251155            4879          CUSTOMER   \n",
       "4                        161097            3820          CUSTOMER   \n",
       "\n",
       "  visit_device_type event_dt      rate  \n",
       "0       All Devices  3/12/19  0.283712  \n",
       "1            Tablet  3/12/19  2.233308  \n",
       "2    Gaming Console  3/12/19  0.000000  \n",
       "3       All Devices  3/12/19  1.942625  \n",
       "4           Desktop  3/12/19  2.371242  "
      ]
     },
     "execution_count": 3,
     "metadata": {},
     "output_type": "execute_result"
    }
   ],
   "source": [
    "df.head()"
   ]
  },
  {
   "cell_type": "code",
   "execution_count": null,
   "metadata": {},
   "outputs": [],
   "source": []
  },
  {
   "cell_type": "code",
   "execution_count": 4,
   "metadata": {},
   "outputs": [],
   "source": [
    "df.columns = ['Visitors','Orders','Customer Type','Device Type','Date','Rate']"
   ]
  },
  {
   "cell_type": "code",
   "execution_count": 19,
   "metadata": {},
   "outputs": [],
   "source": [
    "df.Date = pd.to_datetime(df.Date)"
   ]
  },
  {
   "cell_type": "code",
   "execution_count": 22,
   "metadata": {},
   "outputs": [],
   "source": [
    "df.sort_values(by=['Date'],inplace=True)"
   ]
  },
  {
   "cell_type": "code",
   "execution_count": 23,
   "metadata": {},
   "outputs": [],
   "source": [
    "df = df[df['Device Type']!='Gaming Console']\n",
    "df = df[df['Device Type']!='E-Reader']"
   ]
  },
  {
   "cell_type": "code",
   "execution_count": 24,
   "metadata": {},
   "outputs": [],
   "source": [
    "df1 = df[df['Device Type'] != 'All Devices']"
   ]
  },
  {
   "cell_type": "code",
   "execution_count": 25,
   "metadata": {},
   "outputs": [],
   "source": [
    "df1 = df1[df1['Customer Type']!='All Visitors']"
   ]
  },
  {
   "cell_type": "code",
   "execution_count": 26,
   "metadata": {},
   "outputs": [],
   "source": [
    "df2 = df[df['Device Type'] == 'All Devices']"
   ]
  },
  {
   "cell_type": "code",
   "execution_count": 27,
   "metadata": {},
   "outputs": [],
   "source": [
    "df2 = df2[df2['Customer Type']=='All Visitors']"
   ]
  },
  {
   "cell_type": "code",
   "execution_count": 28,
   "metadata": {},
   "outputs": [],
   "source": [
    "df1 = df1[df1['Customer Type']!='All Visitors']"
   ]
  },
  {
   "cell_type": "code",
   "execution_count": 31,
   "metadata": {},
   "outputs": [],
   "source": [
    "df2.to_csv('all.csv',index=False)"
   ]
  },
  {
   "cell_type": "code",
   "execution_count": 32,
   "metadata": {},
   "outputs": [],
   "source": [
    "df1.to_csv('data2.csv',index=False)"
   ]
  },
  {
   "cell_type": "code",
   "execution_count": null,
   "metadata": {},
   "outputs": [],
   "source": []
  }
 ],
 "metadata": {
  "kernelspec": {
   "display_name": "Python 3",
   "language": "python",
   "name": "python3"
  },
  "language_info": {
   "codemirror_mode": {
    "name": "ipython",
    "version": 3
   },
   "file_extension": ".py",
   "mimetype": "text/x-python",
   "name": "python",
   "nbconvert_exporter": "python",
   "pygments_lexer": "ipython3",
   "version": "3.7.3"
  }
 },
 "nbformat": 4,
 "nbformat_minor": 2
}
