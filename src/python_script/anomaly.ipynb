{
 "cells": [
  {
   "cell_type": "code",
   "execution_count": 2,
   "metadata": {},
   "outputs": [
    {
     "data": {
      "text/html": [
       "        <script type=\"text/javascript\">\n",
       "        window.PlotlyConfig = {MathJaxConfig: 'local'};\n",
       "        if (window.MathJax) {MathJax.Hub.Config({SVG: {font: \"STIX-Web\"}});}\n",
       "        if (typeof require !== 'undefined') {\n",
       "        require.undef(\"plotly\");\n",
       "        requirejs.config({\n",
       "            paths: {\n",
       "                'plotly': ['https://cdn.plot.ly/plotly-latest.min']\n",
       "            }\n",
       "        });\n",
       "        require(['plotly'], function(Plotly) {\n",
       "            window._Plotly = Plotly;\n",
       "        });\n",
       "        }\n",
       "        </script>\n",
       "        "
      ]
     },
     "metadata": {},
     "output_type": "display_data"
    }
   ],
   "source": [
    "import pandas as pd\n",
    "import numpy as np\n",
    "import matplotlib.pyplot as plt\n",
    "import seaborn as sns\n",
    "import datetime as dt\n",
    "from datetime import datetime\n",
    "\n",
    "import plotly\n",
    "import plotly.graph_objs as go\n",
    "plotly.offline.init_notebook_mode(connected=True)\n",
    "import math\n",
    "%matplotlib inline"
   ]
  },
  {
   "cell_type": "code",
   "execution_count": 3,
   "metadata": {},
   "outputs": [],
   "source": [
    "from statsmodels.tsa.arima_model import ARIMA\n",
    "#import pmdarima as pm\n",
    "\n",
    "from pyculiarity import detect_anoms\n",
    "from pyculiarity import detect_vec\n"
   ]
  },
  {
   "cell_type": "code",
   "execution_count": 4,
   "metadata": {},
   "outputs": [],
   "source": [
    "df = pd.read_csv('anomaly_det_dashboard_shopper_conv.csv')\n",
    "\n",
    "df = df[['totalshoppertraffic_visitors','digital_orders','cust_prospect_ind','visit_device_type','event_dt']]\n",
    "\n",
    "df.columns = ['visitor','order','customer','device','date']\n",
    "\n",
    "df['rate'] = df.order/df.visitor\n",
    "\n",
    "df.date = pd.to_datetime(df.date)\n",
    "df = df.sort_values(by=['date']).reset_index(drop=True)\n",
    "\n",
    "df = df[df.device != 'Gaming Consle']\n",
    "df = df[df.device != 'E-Reader']\n",
    "\n",
    "df0 = df[(df.customer == 'All Visitors') & (df.device == 'All Devices')].reset_index(drop=True)\n",
    "\n",
    "df1 = df[(df.customer == 'CUSTOMER') & (df.device == 'Mobile Phone')].reset_index(drop=True)\n",
    "df2 = df[(df.customer == 'CUSTOMER') & (df.device == 'Desktop')].reset_index(drop=True)\n",
    "df3 = df[(df.customer == 'CUSTOMER') & (df.device == 'Tablet')].reset_index(drop=True)\n",
    "\n",
    "df4 = df[(df.customer == 'UNDETERMINED') & (df.device == 'Mobile Phone')].reset_index(drop=True)\n",
    "df5 = df[(df.customer == 'UNDETERMINED') & (df.device == 'Desktop')].reset_index(drop=True)\n",
    "df6 = df[(df.customer == 'UNDETERMINED') & (df.device == 'Tablet')].reset_index(drop=True)\n",
    "\n",
    "df7 = df[(df.customer == 'PROSPECT') & (df.device == 'Mobile Phone')].reset_index(drop=True)\n",
    "df8 = df[(df.customer == 'PROSPECT') & (df.device == 'Desktop')].reset_index(drop=True)\n",
    "df9 = df[(df.customer == 'PROSPECT') & (df.device == 'Tablet')].reset_index(drop=True)\n"
   ]
  },
  {
   "cell_type": "code",
   "execution_count": 364,
   "metadata": {},
   "outputs": [],
   "source": [
    "#!pip install pmdarima"
   ]
  },
  {
   "cell_type": "markdown",
   "metadata": {},
   "source": [
    "### ARIMA"
   ]
  },
  {
   "cell_type": "code",
   "execution_count": null,
   "metadata": {},
   "outputs": [],
   "source": []
  },
  {
   "cell_type": "code",
   "execution_count": null,
   "metadata": {},
   "outputs": [],
   "source": []
  },
  {
   "cell_type": "code",
   "execution_count": 620,
   "metadata": {},
   "outputs": [],
   "source": [
    "def model1(data):\n",
    "    try:\n",
    "        model = ARIMA(data, order=(1,0,1))\n",
    "        fit = model.fit()\n",
    "    except:\n",
    "        model = ARIMA(data, order=(2,0,1))\n",
    "        fit = model.fit()\n",
    "    fitted = fit.fittedvalues\n",
    "    diff = abs(fitted - data)\n",
    "    sd = data.std()\n",
    "  \n",
    "    result = np.where(diff > 1.5*sd)[0]\n",
    "\n",
    "    return result\n",
    "    \n"
   ]
  },
  {
   "cell_type": "markdown",
   "metadata": {},
   "source": [
    "### twitter"
   ]
  },
  {
   "cell_type": "code",
   "execution_count": null,
   "metadata": {},
   "outputs": [],
   "source": []
  },
  {
   "cell_type": "code",
   "execution_count": 157,
   "metadata": {},
   "outputs": [],
   "source": [
    "#!pip install pyculiarity"
   ]
  },
  {
   "cell_type": "code",
   "execution_count": 454,
   "metadata": {},
   "outputs": [],
   "source": []
  },
  {
   "cell_type": "code",
   "execution_count": 483,
   "metadata": {},
   "outputs": [],
   "source": [
    "#  Anomaly Detection Using Seasonal Hybrid ESD Test\n",
    "def model2(data):\n",
    "    result = detect_vec(data, max_anoms=0.2, direction='both', period=14,alpha=0.5)\n",
    "    return np.array(result['anoms'].index)\n"
   ]
  },
  {
   "cell_type": "code",
   "execution_count": 740,
   "metadata": {},
   "outputs": [],
   "source": [
    "def model3(data_df):\n",
    "    copy = data_df.copy()\n",
    "    result = detect_anoms.detect_anoms(copy, k=0.25, num_obs_per_period=14,one_tail=False, alpha=0.6)\n",
    "    index = np.where(copy.timestamp.isin(result['anoms']))\n",
    "    np.where(data.timestamp.isin(a['anoms']))\n",
    "    return index[0]\n"
   ]
  },
  {
   "cell_type": "code",
   "execution_count": 747,
   "metadata": {},
   "outputs": [
    {
     "data": {
      "text/plain": [
       "array([ 2,  3, 21, 34, 47, 53, 54])"
      ]
     },
     "execution_count": 747,
     "metadata": {},
     "output_type": "execute_result"
    }
   ],
   "source": [
    "model2(df1.visitor)"
   ]
  },
  {
   "cell_type": "code",
   "execution_count": 746,
   "metadata": {},
   "outputs": [
    {
     "data": {
      "text/plain": [
       "array([ 2,  3, 21, 34, 47, 53, 54])"
      ]
     },
     "execution_count": 746,
     "metadata": {},
     "output_type": "execute_result"
    }
   ],
   "source": [
    "model3(df1[['date','visitor']])"
   ]
  },
  {
   "cell_type": "markdown",
   "metadata": {},
   "source": [
    "### detect anomaly"
   ]
  },
  {
   "cell_type": "code",
   "execution_count": 743,
   "metadata": {},
   "outputs": [],
   "source": [
    "d_list = [df0, df1, df2, df3, df4, df5, df6, df7, df8, df9]"
   ]
  },
  {
   "cell_type": "code",
   "execution_count": 748,
   "metadata": {},
   "outputs": [],
   "source": [
    "def anomaly_detection(df):     \n",
    "    v1 = np.zeros(len(df), dtype=int)\n",
    "    v2 = np.zeros(len(df), dtype=int)\n",
    "    v3 = np.zeros(len(df), dtype=int)\n",
    "    index1 = model1(df.visitor)\n",
    "    index2 = model2(df.visitor)\n",
    "    index3 = model3(df[['date','visitor']])\n",
    "    v1[index1] = 1\n",
    "    v2[index2] = 1\n",
    "    v3[index3] = 1    \n",
    "    \n",
    "    \n",
    "    o1 = np.zeros(len(df), dtype=int)\n",
    "    o2 = np.zeros(len(df), dtype=int)\n",
    "    o3 = np.zeros(len(df), dtype=int)\n",
    "    index1 = model1(df.order)\n",
    "    index2 = model2(df.order)\n",
    "    index3 = model3(df[['date','order']])\n",
    "    o1[index1] = 1\n",
    "    o2[index2] = 1\n",
    "    o3[index3] = 1\n",
    "    \n",
    "    \n",
    "    r1 = np.zeros(len(df), dtype=int)\n",
    "    r2 = np.zeros(len(df), dtype=int)\n",
    "    r3 = np.zeros(len(df), dtype=int)\n",
    "    index1 = model1(df.rate)\n",
    "    index2 = model2(df.rate)\n",
    "    index3 = model3(df[['date','rate']])\n",
    "    r1[index1] = 1\n",
    "    r2[index2] = 1\n",
    "    r3[index3] = 1\n",
    "    \n",
    "    result = df.copy()\n",
    "    result['visitor_anomaly_arima'] = v1\n",
    "    result['visitor_anomaly_stl'] = v2\n",
    "    result['visitor_anomaly_twitter'] = v3\n",
    "    result['order_anomaly_arima'] = o1\n",
    "    result['order_anomaly_stl'] = o2\n",
    "    result['order_anomaly_twitter'] = o3\n",
    "    result['rate_anomaly_arima'] = r1\n",
    "    result['rate_anomaly_stl'] = r2\n",
    "    result['rate_anomaly_twitter'] = r3\n",
    "    \n",
    "    return result"
   ]
  },
  {
   "cell_type": "code",
   "execution_count": 749,
   "metadata": {},
   "outputs": [],
   "source": [
    "result = anomaly_detection(d_list[0])\n",
    "for d in d_list[1:]:\n",
    "    result = pd.concat([result,anomaly_detection(d)])\n"
   ]
  },
  {
   "cell_type": "code",
   "execution_count": 751,
   "metadata": {},
   "outputs": [],
   "source": [
    "result = result.reset_index(drop=True)"
   ]
  },
  {
   "cell_type": "code",
   "execution_count": 752,
   "metadata": {},
   "outputs": [],
   "source": [
    "result.to_csv('anomaly.csv',index=False)"
   ]
  },
  {
   "cell_type": "code",
   "execution_count": null,
   "metadata": {},
   "outputs": [],
   "source": []
  }
 ],
 "metadata": {
  "kernelspec": {
   "display_name": "Python 3",
   "language": "python",
   "name": "python3"
  },
  "language_info": {
   "codemirror_mode": {
    "name": "ipython",
    "version": 3
   },
   "file_extension": ".py",
   "mimetype": "text/x-python",
   "name": "python",
   "nbconvert_exporter": "python",
   "pygments_lexer": "ipython3",
   "version": "3.7.3"
  }
 },
 "nbformat": 4,
 "nbformat_minor": 2
}
