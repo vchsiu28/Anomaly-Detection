{
 "cells": [
  {
   "cell_type": "code",
   "execution_count": null,
   "metadata": {},
   "outputs": [],
   "source": []
  },
  {
   "cell_type": "markdown",
   "metadata": {},
   "source": [
    "### STL-IQR, Twitter-GESD, ARIMA"
   ]
  },
  {
   "cell_type": "code",
   "execution_count": 446,
   "metadata": {},
   "outputs": [
    {
     "ename": "ERROR",
     "evalue": "Error in library(prophet): there is no package called 'prophet'\n",
     "output_type": "error",
     "traceback": [
      "Error in library(prophet): there is no package called 'prophet'\nTraceback:\n",
      "1. library(prophet)"
     ]
    }
   ],
   "source": [
    "library(prophet)"
   ]
  },
  {
   "cell_type": "code",
   "execution_count": 2,
   "metadata": {},
   "outputs": [
    {
     "name": "stderr",
     "output_type": "stream",
     "text": [
      "also installing the dependencies 'ini', 'desc', 'rprojroot', 'xopen', 'clisymbols', 'gh', 'quadprog', 'git2r', 'memoise', 'pkgbuild', 'pkgload', 'rcmdcheck', 'remotes', 'sessioninfo', 'usethis', 'fracdiff', 'lmtest', 'tseries', 'urca', 'RcppArmadillo', 'devtools', 'forecast', 'padr', 'timetk', 'sweep', 'tibbletime'\n",
      "\n"
     ]
    },
    {
     "name": "stdout",
     "output_type": "stream",
     "text": [
      "package 'ini' successfully unpacked and MD5 sums checked\n",
      "package 'desc' successfully unpacked and MD5 sums checked\n",
      "package 'rprojroot' successfully unpacked and MD5 sums checked\n",
      "package 'xopen' successfully unpacked and MD5 sums checked\n",
      "package 'clisymbols' successfully unpacked and MD5 sums checked\n",
      "package 'gh' successfully unpacked and MD5 sums checked\n",
      "package 'quadprog' successfully unpacked and MD5 sums checked\n",
      "package 'git2r' successfully unpacked and MD5 sums checked\n",
      "package 'memoise' successfully unpacked and MD5 sums checked\n",
      "package 'pkgbuild' successfully unpacked and MD5 sums checked\n",
      "package 'pkgload' successfully unpacked and MD5 sums checked\n",
      "package 'rcmdcheck' successfully unpacked and MD5 sums checked\n",
      "package 'remotes' successfully unpacked and MD5 sums checked\n",
      "package 'sessioninfo' successfully unpacked and MD5 sums checked\n",
      "package 'usethis' successfully unpacked and MD5 sums checked\n",
      "package 'fracdiff' successfully unpacked and MD5 sums checked\n",
      "package 'lmtest' successfully unpacked and MD5 sums checked\n",
      "package 'tseries' successfully unpacked and MD5 sums checked\n",
      "package 'urca' successfully unpacked and MD5 sums checked\n",
      "package 'RcppArmadillo' successfully unpacked and MD5 sums checked\n",
      "package 'devtools' successfully unpacked and MD5 sums checked\n",
      "package 'forecast' successfully unpacked and MD5 sums checked\n",
      "package 'padr' successfully unpacked and MD5 sums checked\n",
      "package 'timetk' successfully unpacked and MD5 sums checked\n",
      "package 'sweep' successfully unpacked and MD5 sums checked\n",
      "package 'tibbletime' successfully unpacked and MD5 sums checked\n",
      "package 'anomalize' successfully unpacked and MD5 sums checked\n",
      "\n",
      "The downloaded binary packages are in\n",
      "\tC:\\Users\\Xiaoxin.Xu\\AppData\\Local\\Temp\\RtmpKOR8Ix\\downloaded_packages\n",
      "package 'tsoutliers' successfully unpacked and MD5 sums checked\n",
      "\n",
      "The downloaded binary packages are in\n",
      "\tC:\\Users\\Xiaoxin.Xu\\AppData\\Local\\Temp\\RtmpKOR8Ix\\downloaded_packages\n"
     ]
    },
    {
     "name": "stderr",
     "output_type": "stream",
     "text": [
      "also installing the dependencies 'fma', 'expsmooth'\n",
      "\n"
     ]
    },
    {
     "name": "stdout",
     "output_type": "stream",
     "text": [
      "package 'fma' successfully unpacked and MD5 sums checked\n",
      "package 'expsmooth' successfully unpacked and MD5 sums checked\n",
      "package 'fpp2' successfully unpacked and MD5 sums checked\n",
      "\n",
      "The downloaded binary packages are in\n",
      "\tC:\\Users\\Xiaoxin.Xu\\AppData\\Local\\Temp\\RtmpKOR8Ix\\downloaded_packages\n"
     ]
    }
   ],
   "source": [
    "install.packages(\"anomalize\",  repos = \"http://cran.us.r-project.org\")\n",
    "install.packages('tsoutliers',repos = \"http://cran.us.r-project.org\")\n",
    "install.packages('fpp2', repos = \"http://cran.us.r-project.org\")\n",
    "#install.packages(\"dplyr\",  repos = \"http://cran.us.r-project.org\")   \n",
    "#install.packages(\"tibbletime\",  repos = \"http://cran.us.r-project.org\")\n",
    "#install.packages(\"ggplot2\")\n",
    "#install.packages(\"tseries\")\n",
    "#install.packages(\"forecast\")\n",
    "#install.packages(\"zoo\")\n",
    "#install.packages(\"roll\")"
   ]
  },
  {
   "cell_type": "code",
   "execution_count": 1,
   "metadata": {},
   "outputs": [
    {
     "name": "stderr",
     "output_type": "stream",
     "text": [
      "Registered S3 methods overwritten by 'ggplot2':\n",
      "  method         from \n",
      "  [.quosures     rlang\n",
      "  c.quosures     rlang\n",
      "  print.quosures rlang\n",
      "\n",
      "Attaching package: 'tibbletime'\n",
      "\n",
      "The following object is masked from 'package:stats':\n",
      "\n",
      "    filter\n",
      "\n",
      "\n",
      "Attaching package: 'dplyr'\n",
      "\n",
      "The following objects are masked from 'package:stats':\n",
      "\n",
      "    filter, lag\n",
      "\n",
      "The following objects are masked from 'package:base':\n",
      "\n",
      "    intersect, setdiff, setequal, union\n",
      "\n",
      "Registered S3 method overwritten by 'xts':\n",
      "  method     from\n",
      "  as.zoo.xts zoo \n",
      "Registered S3 method overwritten by 'quantmod':\n",
      "  method            from\n",
      "  as.zoo.data.frame zoo \n",
      "Registered S3 methods overwritten by 'forecast':\n",
      "  method             from    \n",
      "  fitted.fracdiff    fracdiff\n",
      "  residuals.fracdiff fracdiff\n",
      "\n",
      "Attaching package: 'zoo'\n",
      "\n",
      "The following objects are masked from 'package:base':\n",
      "\n",
      "    as.Date, as.Date.numeric\n",
      "\n",
      "Loading required package: fma\n",
      "Loading required package: expsmooth\n"
     ]
    }
   ],
   "source": [
    "library(ggplot2)\n",
    "library(anomalize)\n",
    "library(tibbletime)\n",
    "library(dplyr)\n",
    "library(tseries)\n",
    "library(forecast)\n",
    "library(zoo)\n",
    "library(tsoutliers)\n",
    "library(TTR)\n",
    "#library(tidyverse)\n",
    "library(fpp2) "
   ]
  },
  {
   "cell_type": "code",
   "execution_count": 3,
   "metadata": {},
   "outputs": [],
   "source": [
    "pre <- function(name){\n",
    "  df = read.csv(name)\n",
    "  df$data <- as.Date(df$date, format=\"%Y-%m-%d\")\n",
    "  df = tbl_df(df)\n",
    "  return(df)\n",
    "}"
   ]
  },
  {
   "cell_type": "code",
   "execution_count": 4,
   "metadata": {},
   "outputs": [],
   "source": [
    "d = pre('all.csv')"
   ]
  },
  {
   "cell_type": "markdown",
   "metadata": {},
   "source": [
    "### stl and twitter"
   ]
  },
  {
   "cell_type": "code",
   "execution_count": 381,
   "metadata": {},
   "outputs": [],
   "source": [
    "d$date = as.Date(d$date, format=\"%m/%d/%Y\")"
   ]
  },
  {
   "cell_type": "code",
   "execution_count": 385,
   "metadata": {},
   "outputs": [
    {
     "name": "stderr",
     "output_type": "stream",
     "text": [
      "Converting from tbl_df to tbl_time.\n",
      "Auto-index message: index = date\n",
      "frequency = 7 days\n",
      "trend = 7 days\n"
     ]
    },
    {
     "data": {
      "image/png": "[encoded data removed]",
      "text/plain": [
       "plot without title"
      ]
     },
     "metadata": {},
     "output_type": "display_data"
    }
   ],
   "source": [
    "func2(head(d,44))"
   ]
  },
  {
   "cell_type": "code",
   "execution_count": 365,
   "metadata": {},
   "outputs": [],
   "source": [
    "func1 <- function(df){\n",
    "  df %>%\n",
    "    # STL + IQR Anomaly Detection\n",
    "    time_decompose(rate, method = \"twitter\", trend = \"7 days\") %>%\n",
    "    anomalize(remainder, method = \"iqr\") %>%\n",
    "    time_recompose() %>%\n",
    "    # Anomaly Visualization\n",
    "    plot_anomalies(time_recomposed = TRUE) +\n",
    "    labs(title = \"Tidyverse Anomalies\", subtitle = \"STL + IQR Methods\")\n",
    "}\n",
    "\n",
    "func2 <- function(df){\n",
    "  df %>%\n",
    "    # Twitter + GESD\n",
    "    time_decompose(visitors, method = \"stl\", trend = \"7 days\") %>%\n",
    "    anomalize(remainder, method = \"gesd\") %>%\n",
    "    time_recompose() %>%\n",
    "    # Anomaly Visualziation\n",
    "    plot_anomalies(time_recomposed = TRUE) +\n",
    "    labs(title = \"Lubridate Anomalies\", subtitle = \"Twitter + GESD Methods\")\n",
    "}"
   ]
  },
  {
   "cell_type": "code",
   "execution_count": null,
   "metadata": {},
   "outputs": [],
   "source": [
    "new_data = c(644248,\n",
    " 600854,\n",
    " 452830,\n",
    " 636388,\n",
    " 638629,\n",
    " 635154,\n",
    " 696833,\n",
    " 710880,\n",
    " 653226,\n",
    " 637810,\n",
    " 696586,\n",
    " 662052,\n",
    " 668065,\n",
    " 637245,\n",
    " 665895,\n",
    " 631231,\n",
    " 603395,\n",
    " 682920,\n",
    " 662657,\n",
    " 796812,\n",
    " 835134,\n",
    " 788164,\n",
    " 689473,\n",
    " 679961,\n",
    " 701911,\n",
    " 694324,\n",
    " 712073,\n",
    " 636347,\n",
    " 681591,\n",
    " 617902,\n",
    " 609522.3,\n",
    " 675150.8,\n",
    " 672897.0,\n",
    " 696801.7,\n",
    " 701485.6,\n",
    " 735225.0,\n",
    " 679353.4,\n",
    " 670973.7,\n",
    " 736602.2,\n",
    " 734348.4,\n",
    " 758253.1,\n",
    " 762937.0,\n",
    " 796676.4,\n",
    " 740804.8)"
   ]
  },
  {
   "cell_type": "code",
   "execution_count": 308,
   "metadata": {},
   "outputs": [],
   "source": [
    "dnew = data.frame(new_data)"
   ]
  },
  {
   "cell_type": "code",
   "execution_count": 316,
   "metadata": {},
   "outputs": [],
   "source": [
    "dnew$date = d$date[1:44]"
   ]
  },
  {
   "cell_type": "code",
   "execution_count": 317,
   "metadata": {},
   "outputs": [
    {
     "data": {
      "text/html": [
       "<ol class=list-inline>\n",
       "\t<li>2/1/2019</li>\n",
       "\t<li>2/2/2019</li>\n",
       "\t<li>2/3/2019</li>\n",
       "\t<li>2/4/2019</li>\n",
       "\t<li>2/5/2019</li>\n",
       "\t<li>2/6/2019</li>\n",
       "\t<li>2/7/2019</li>\n",
       "\t<li>2/8/2019</li>\n",
       "\t<li>2/9/2019</li>\n",
       "\t<li>2/10/2019</li>\n",
       "\t<li>2/11/2019</li>\n",
       "\t<li>2/12/2019</li>\n",
       "\t<li>2/13/2019</li>\n",
       "\t<li>2/14/2019</li>\n",
       "\t<li>2/15/2019</li>\n",
       "\t<li>2/16/2019</li>\n",
       "\t<li>2/17/2019</li>\n",
       "\t<li>2/18/2019</li>\n",
       "\t<li>2/19/2019</li>\n",
       "\t<li>2/20/2019</li>\n",
       "\t<li>2/21/2019</li>\n",
       "\t<li>2/22/2019</li>\n",
       "\t<li>2/23/2019</li>\n",
       "\t<li>2/24/2019</li>\n",
       "\t<li>2/25/2019</li>\n",
       "\t<li>2/26/2019</li>\n",
       "\t<li>2/27/2019</li>\n",
       "\t<li>2/28/2019</li>\n",
       "\t<li>3/1/2019</li>\n",
       "\t<li>3/2/2019</li>\n",
       "\t<li>3/3/2019</li>\n",
       "\t<li>3/4/2019</li>\n",
       "\t<li>3/5/2019</li>\n",
       "\t<li>3/6/2019</li>\n",
       "\t<li>3/7/2019</li>\n",
       "\t<li>3/8/2019</li>\n",
       "\t<li>3/9/2019</li>\n",
       "\t<li>3/10/2019</li>\n",
       "\t<li>3/11/2019</li>\n",
       "\t<li>3/12/2019</li>\n",
       "\t<li>3/13/2019</li>\n",
       "\t<li>3/14/2019</li>\n",
       "\t<li>3/15/2019</li>\n",
       "\t<li>3/16/2019</li>\n",
       "\t<li>3/17/2019</li>\n",
       "\t<li>3/18/2019</li>\n",
       "\t<li>3/19/2019</li>\n",
       "\t<li>3/20/2019</li>\n",
       "\t<li>3/21/2019</li>\n",
       "\t<li>3/22/2019</li>\n",
       "\t<li>3/23/2019</li>\n",
       "\t<li>3/24/2019</li>\n",
       "\t<li>3/25/2019</li>\n",
       "\t<li>3/26/2019</li>\n",
       "\t<li>3/27/2019</li>\n",
       "\t<li>3/28/2019</li>\n",
       "\t<li>3/29/2019</li>\n",
       "\t<li>3/30/2019</li>\n",
       "\t<li>3/31/2019</li>\n",
       "</ol>\n",
       "\n",
       "<details>\n",
       "\t<summary style=display:list-item;cursor:pointer>\n",
       "\t\t<strong>Levels</strong>:\n",
       "\t</summary>\n",
       "\t<ol class=list-inline>\n",
       "\t\t<li>'2/1/2019'</li>\n",
       "\t\t<li>'2/10/2019'</li>\n",
       "\t\t<li>'2/11/2019'</li>\n",
       "\t\t<li>'2/12/2019'</li>\n",
       "\t\t<li>'2/13/2019'</li>\n",
       "\t\t<li>'2/14/2019'</li>\n",
       "\t\t<li>'2/15/2019'</li>\n",
       "\t\t<li>'2/16/2019'</li>\n",
       "\t\t<li>'2/17/2019'</li>\n",
       "\t\t<li>'2/18/2019'</li>\n",
       "\t\t<li>'2/19/2019'</li>\n",
       "\t\t<li>'2/2/2019'</li>\n",
       "\t\t<li>'2/20/2019'</li>\n",
       "\t\t<li>'2/21/2019'</li>\n",
       "\t\t<li>'2/22/2019'</li>\n",
       "\t\t<li>'2/23/2019'</li>\n",
       "\t\t<li>'2/24/2019'</li>\n",
       "\t\t<li>'2/25/2019'</li>\n",
       "\t\t<li>'2/26/2019'</li>\n",
       "\t\t<li>'2/27/2019'</li>\n",
       "\t\t<li>'2/28/2019'</li>\n",
       "\t\t<li>'2/3/2019'</li>\n",
       "\t\t<li>'2/4/2019'</li>\n",
       "\t\t<li>'2/5/2019'</li>\n",
       "\t\t<li>'2/6/2019'</li>\n",
       "\t\t<li>'2/7/2019'</li>\n",
       "\t\t<li>'2/8/2019'</li>\n",
       "\t\t<li>'2/9/2019'</li>\n",
       "\t\t<li>'3/1/2019'</li>\n",
       "\t\t<li>'3/10/2019'</li>\n",
       "\t\t<li>'3/11/2019'</li>\n",
       "\t\t<li>'3/12/2019'</li>\n",
       "\t\t<li>'3/13/2019'</li>\n",
       "\t\t<li>'3/14/2019'</li>\n",
       "\t\t<li>'3/15/2019'</li>\n",
       "\t\t<li>'3/16/2019'</li>\n",
       "\t\t<li>'3/17/2019'</li>\n",
       "\t\t<li>'3/18/2019'</li>\n",
       "\t\t<li>'3/19/2019'</li>\n",
       "\t\t<li>'3/2/2019'</li>\n",
       "\t\t<li>'3/20/2019'</li>\n",
       "\t\t<li>'3/21/2019'</li>\n",
       "\t\t<li>'3/22/2019'</li>\n",
       "\t\t<li>'3/23/2019'</li>\n",
       "\t\t<li>'3/24/2019'</li>\n",
       "\t\t<li>'3/25/2019'</li>\n",
       "\t\t<li>'3/26/2019'</li>\n",
       "\t\t<li>'3/27/2019'</li>\n",
       "\t\t<li>'3/28/2019'</li>\n",
       "\t\t<li>'3/29/2019'</li>\n",
       "\t\t<li>'3/3/2019'</li>\n",
       "\t\t<li>'3/30/2019'</li>\n",
       "\t\t<li>'3/31/2019'</li>\n",
       "\t\t<li>'3/4/2019'</li>\n",
       "\t\t<li>'3/5/2019'</li>\n",
       "\t\t<li>'3/6/2019'</li>\n",
       "\t\t<li>'3/7/2019'</li>\n",
       "\t\t<li>'3/8/2019'</li>\n",
       "\t\t<li>'3/9/2019'</li>\n",
       "\t</ol>\n",
       "</details>"
      ],
      "text/latex": [
       "\\begin{enumerate*}\n",
       "\\item 2/1/2019\n",
       "\\item 2/2/2019\n",
       "\\item 2/3/2019\n",
       "\\item 2/4/2019\n",
       "\\item 2/5/2019\n",
       "\\item 2/6/2019\n",
       "\\item 2/7/2019\n",
       "\\item 2/8/2019\n",
       "\\item 2/9/2019\n",
       "\\item 2/10/2019\n",
       "\\item 2/11/2019\n",
       "\\item 2/12/2019\n",
       "\\item 2/13/2019\n",
       "\\item 2/14/2019\n",
       "\\item 2/15/2019\n",
       "\\item 2/16/2019\n",
       "\\item 2/17/2019\n",
       "\\item 2/18/2019\n",
       "\\item 2/19/2019\n",
       "\\item 2/20/2019\n",
       "\\item 2/21/2019\n",
       "\\item 2/22/2019\n",
       "\\item 2/23/2019\n",
       "\\item 2/24/2019\n",
       "\\item 2/25/2019\n",
       "\\item 2/26/2019\n",
       "\\item 2/27/2019\n",
       "\\item 2/28/2019\n",
       "\\item 3/1/2019\n",
       "\\item 3/2/2019\n",
       "\\item 3/3/2019\n",
       "\\item 3/4/2019\n",
       "\\item 3/5/2019\n",
       "\\item 3/6/2019\n",
       "\\item 3/7/2019\n",
       "\\item 3/8/2019\n",
       "\\item 3/9/2019\n",
       "\\item 3/10/2019\n",
       "\\item 3/11/2019\n",
       "\\item 3/12/2019\n",
       "\\item 3/13/2019\n",
       "\\item 3/14/2019\n",
       "\\item 3/15/2019\n",
       "\\item 3/16/2019\n",
       "\\item 3/17/2019\n",
       "\\item 3/18/2019\n",
       "\\item 3/19/2019\n",
       "\\item 3/20/2019\n",
       "\\item 3/21/2019\n",
       "\\item 3/22/2019\n",
       "\\item 3/23/2019\n",
       "\\item 3/24/2019\n",
       "\\item 3/25/2019\n",
       "\\item 3/26/2019\n",
       "\\item 3/27/2019\n",
       "\\item 3/28/2019\n",
       "\\item 3/29/2019\n",
       "\\item 3/30/2019\n",
       "\\item 3/31/2019\n",
       "\\end{enumerate*}\n",
       "\n",
       "\\emph{Levels}: \\begin{enumerate*}\n",
       "\\item '2/1/2019'\n",
       "\\item '2/10/2019'\n",
       "\\item '2/11/2019'\n",
       "\\item '2/12/2019'\n",
       "\\item '2/13/2019'\n",
       "\\item '2/14/2019'\n",
       "\\item '2/15/2019'\n",
       "\\item '2/16/2019'\n",
       "\\item '2/17/2019'\n",
       "\\item '2/18/2019'\n",
       "\\item '2/19/2019'\n",
       "\\item '2/2/2019'\n",
       "\\item '2/20/2019'\n",
       "\\item '2/21/2019'\n",
       "\\item '2/22/2019'\n",
       "\\item '2/23/2019'\n",
       "\\item '2/24/2019'\n",
       "\\item '2/25/2019'\n",
       "\\item '2/26/2019'\n",
       "\\item '2/27/2019'\n",
       "\\item '2/28/2019'\n",
       "\\item '2/3/2019'\n",
       "\\item '2/4/2019'\n",
       "\\item '2/5/2019'\n",
       "\\item '2/6/2019'\n",
       "\\item '2/7/2019'\n",
       "\\item '2/8/2019'\n",
       "\\item '2/9/2019'\n",
       "\\item '3/1/2019'\n",
       "\\item '3/10/2019'\n",
       "\\item '3/11/2019'\n",
       "\\item '3/12/2019'\n",
       "\\item '3/13/2019'\n",
       "\\item '3/14/2019'\n",
       "\\item '3/15/2019'\n",
       "\\item '3/16/2019'\n",
       "\\item '3/17/2019'\n",
       "\\item '3/18/2019'\n",
       "\\item '3/19/2019'\n",
       "\\item '3/2/2019'\n",
       "\\item '3/20/2019'\n",
       "\\item '3/21/2019'\n",
       "\\item '3/22/2019'\n",
       "\\item '3/23/2019'\n",
       "\\item '3/24/2019'\n",
       "\\item '3/25/2019'\n",
       "\\item '3/26/2019'\n",
       "\\item '3/27/2019'\n",
       "\\item '3/28/2019'\n",
       "\\item '3/29/2019'\n",
       "\\item '3/3/2019'\n",
       "\\item '3/30/2019'\n",
       "\\item '3/31/2019'\n",
       "\\item '3/4/2019'\n",
       "\\item '3/5/2019'\n",
       "\\item '3/6/2019'\n",
       "\\item '3/7/2019'\n",
       "\\item '3/8/2019'\n",
       "\\item '3/9/2019'\n",
       "\\end{enumerate*}\n"
      ],
      "text/markdown": [
       "1. 2/1/2019\n",
       "2. 2/2/2019\n",
       "3. 2/3/2019\n",
       "4. 2/4/2019\n",
       "5. 2/5/2019\n",
       "6. 2/6/2019\n",
       "7. 2/7/2019\n",
       "8. 2/8/2019\n",
       "9. 2/9/2019\n",
       "10. 2/10/2019\n",
       "11. 2/11/2019\n",
       "12. 2/12/2019\n",
       "13. 2/13/2019\n",
       "14. 2/14/2019\n",
       "15. 2/15/2019\n",
       "16. 2/16/2019\n",
       "17. 2/17/2019\n",
       "18. 2/18/2019\n",
       "19. 2/19/2019\n",
       "20. 2/20/2019\n",
       "21. 2/21/2019\n",
       "22. 2/22/2019\n",
       "23. 2/23/2019\n",
       "24. 2/24/2019\n",
       "25. 2/25/2019\n",
       "26. 2/26/2019\n",
       "27. 2/27/2019\n",
       "28. 2/28/2019\n",
       "29. 3/1/2019\n",
       "30. 3/2/2019\n",
       "31. 3/3/2019\n",
       "32. 3/4/2019\n",
       "33. 3/5/2019\n",
       "34. 3/6/2019\n",
       "35. 3/7/2019\n",
       "36. 3/8/2019\n",
       "37. 3/9/2019\n",
       "38. 3/10/2019\n",
       "39. 3/11/2019\n",
       "40. 3/12/2019\n",
       "41. 3/13/2019\n",
       "42. 3/14/2019\n",
       "43. 3/15/2019\n",
       "44. 3/16/2019\n",
       "45. 3/17/2019\n",
       "46. 3/18/2019\n",
       "47. 3/19/2019\n",
       "48. 3/20/2019\n",
       "49. 3/21/2019\n",
       "50. 3/22/2019\n",
       "51. 3/23/2019\n",
       "52. 3/24/2019\n",
       "53. 3/25/2019\n",
       "54. 3/26/2019\n",
       "55. 3/27/2019\n",
       "56. 3/28/2019\n",
       "57. 3/29/2019\n",
       "58. 3/30/2019\n",
       "59. 3/31/2019\n",
       "\n",
       "\n",
       "\n",
       "**Levels**: 1. '2/1/2019'\n",
       "2. '2/10/2019'\n",
       "3. '2/11/2019'\n",
       "4. '2/12/2019'\n",
       "5. '2/13/2019'\n",
       "6. '2/14/2019'\n",
       "7. '2/15/2019'\n",
       "8. '2/16/2019'\n",
       "9. '2/17/2019'\n",
       "10. '2/18/2019'\n",
       "11. '2/19/2019'\n",
       "12. '2/2/2019'\n",
       "13. '2/20/2019'\n",
       "14. '2/21/2019'\n",
       "15. '2/22/2019'\n",
       "16. '2/23/2019'\n",
       "17. '2/24/2019'\n",
       "18. '2/25/2019'\n",
       "19. '2/26/2019'\n",
       "20. '2/27/2019'\n",
       "21. '2/28/2019'\n",
       "22. '2/3/2019'\n",
       "23. '2/4/2019'\n",
       "24. '2/5/2019'\n",
       "25. '2/6/2019'\n",
       "26. '2/7/2019'\n",
       "27. '2/8/2019'\n",
       "28. '2/9/2019'\n",
       "29. '3/1/2019'\n",
       "30. '3/10/2019'\n",
       "31. '3/11/2019'\n",
       "32. '3/12/2019'\n",
       "33. '3/13/2019'\n",
       "34. '3/14/2019'\n",
       "35. '3/15/2019'\n",
       "36. '3/16/2019'\n",
       "37. '3/17/2019'\n",
       "38. '3/18/2019'\n",
       "39. '3/19/2019'\n",
       "40. '3/2/2019'\n",
       "41. '3/20/2019'\n",
       "42. '3/21/2019'\n",
       "43. '3/22/2019'\n",
       "44. '3/23/2019'\n",
       "45. '3/24/2019'\n",
       "46. '3/25/2019'\n",
       "47. '3/26/2019'\n",
       "48. '3/27/2019'\n",
       "49. '3/28/2019'\n",
       "50. '3/29/2019'\n",
       "51. '3/3/2019'\n",
       "52. '3/30/2019'\n",
       "53. '3/31/2019'\n",
       "54. '3/4/2019'\n",
       "55. '3/5/2019'\n",
       "56. '3/6/2019'\n",
       "57. '3/7/2019'\n",
       "58. '3/8/2019'\n",
       "59. '3/9/2019'\n",
       "\n",
       "\n"
      ],
      "text/plain": [
       " [1] 2/1/2019  2/2/2019  2/3/2019  2/4/2019  2/5/2019  2/6/2019  2/7/2019 \n",
       " [8] 2/8/2019  2/9/2019  2/10/2019 2/11/2019 2/12/2019 2/13/2019 2/14/2019\n",
       "[15] 2/15/2019 2/16/2019 2/17/2019 2/18/2019 2/19/2019 2/20/2019 2/21/2019\n",
       "[22] 2/22/2019 2/23/2019 2/24/2019 2/25/2019 2/26/2019 2/27/2019 2/28/2019\n",
       "[29] 3/1/2019  3/2/2019  3/3/2019  3/4/2019  3/5/2019  3/6/2019  3/7/2019 \n",
       "[36] 3/8/2019  3/9/2019  3/10/2019 3/11/2019 3/12/2019 3/13/2019 3/14/2019\n",
       "[43] 3/15/2019 3/16/2019 3/17/2019 3/18/2019 3/19/2019 3/20/2019 3/21/2019\n",
       "[50] 3/22/2019 3/23/2019 3/24/2019 3/25/2019 3/26/2019 3/27/2019 3/28/2019\n",
       "[57] 3/29/2019 3/30/2019 3/31/2019\n",
       "59 Levels: 2/1/2019 2/10/2019 2/11/2019 2/12/2019 2/13/2019 ... 3/9/2019"
      ]
     },
     "metadata": {},
     "output_type": "display_data"
    }
   ],
   "source": [
    "d$date"
   ]
  },
  {
   "cell_type": "code",
   "execution_count": 318,
   "metadata": {},
   "outputs": [],
   "source": [
    "dnew$date <- as.Date(dnew$date, format=\"%m/%d/%Y\")\n",
    "dnew = tbl_df(dnew)"
   ]
  },
  {
   "cell_type": "code",
   "execution_count": 388,
   "metadata": {},
   "outputs": [
    {
     "name": "stderr",
     "output_type": "stream",
     "text": [
      "Converting from tbl_df to tbl_time.\n",
      "Auto-index message: index = date\n",
      "frequency = 7 days\n",
      "trend = 7 days\n"
     ]
    },
    {
     "data": {
      "image/png": "[encoded data removed]",
      "text/plain": [
       "plot without title"
      ]
     },
     "metadata": {},
     "output_type": "display_data"
    }
   ],
   "source": [
    "func2(dnew)"
   ]
  },
  {
   "cell_type": "code",
   "execution_count": 387,
   "metadata": {},
   "outputs": [],
   "source": [
    "func2 <- function(df){\n",
    "  df %>%\n",
    "    # Twitter + GESD\n",
    "    time_decompose(new_data, method = \"stl\", trend = \"7 days\") %>%\n",
    "    anomalize(remainder, method = \"gesd\") %>%\n",
    "    time_recompose() %>%\n",
    "    # Anomaly Visualziation\n",
    "    plot_anomalies(time_recomposed = TRUE) +\n",
    "    labs(title = \"Lubridate Anomalies\", subtitle = \"Twitter + GESD Methods\")\n",
    "}"
   ]
  },
  {
   "cell_type": "code",
   "execution_count": 219,
   "metadata": {},
   "outputs": [],
   "source": [
    "##### use the one month to train\n",
    "data = d$visitors\n",
    "sample = data[1:28]"
   ]
  },
  {
   "cell_type": "code",
   "execution_count": 226,
   "metadata": {},
   "outputs": [],
   "source": [
    "sample = data[1:28]"
   ]
  },
  {
   "cell_type": "markdown",
   "metadata": {},
   "source": [
    "1.A. STL\n",
    "The STL method uses the stl() function from the stats package. STL works very well in circumstances where a long term trend is present. The Loess algorithm typically does a very good job at detecting the trend. However, it circumstances when the seasonal component is more dominant than the trend, Twitter tends to perform better.\n",
    "\n",
    "1.B. Twitter\n",
    "The Twitter method is a similar decomposition method to that used in Twitter’s AnomalyDetection package. The Twitter method works identically to STL for removing the seasonal component. The main difference is in removing the trend, which is performed by removing the median of the data rather than fitting a smoother. The median works well when a long-term trend is less dominant that the short-term seasonal component. This is because the smoother tends to overfit the anomalies.\n",
    "\n",
    "2.A. IQR\n",
    "The IQR method is a similar method to that used in the forecast package for anomaly removal within the tsoutliers() function. It takes a distribution and uses the 25% and 75% inner quartile range to establish the distribution of the remainder. Limits are set by default to a factor of 3X above and below the inner quartile range, and any remainders beyond the limits are considered anomalies.\n",
    "\n",
    "The alpha parameter adjusts the 3X factor. By default, alpha = 0.05 for consistency with the GESD method. An alpha = 0.025, results in a 6X factor, expanding the limits and making it more difficult for data to be an anomaly. Conversely, an alpha = 0.10 contracts the limits to a factor of 1.5X making it more easy for data to be an anomaly.\n",
    "\n",
    "The IQR method does not depend on any loops and is therefore faster and more easily scaled than the GESD method. However, it may not be as accurate in detecting anomalies since the high leverage anomalies can skew the centerline (median) of the IQR.\n",
    "\n",
    "2.B. GESD\n",
    "The GESD method is used in Twitter’s AnomalyDetection package. It involves an iterative evaluation of the Generalized Extreme Studentized Deviate test, which progressively evaluates anomalies, removing the worst offenders and recalculating the test statistic and critical value. The critical values progressively contract as more high leverage points are removed.\n",
    "\n",
    "The alpha parameter adjusts the width of the critical values. By default, alpha = 0.05.\n",
    "\n",
    "The GESD method is iterative, and therefore more expensive that the IQR method. The main benefit is that GESD is less resistant to high leverage points since the distribution of the data is progressively analyzed as anomalies are removed.\n",
    "\n",
    "We can see that the IQR limits don’t vary whereas the GESD limits get more stringent as anomalies are removed from the data. As a result, the GESD method tends to be more accurate in detecting anomalies at the expense of incurring more processing time for the looped anomaly removal. This expense is most noticeable with larger data sets (many observations or many time series).\n",
    "\n",
    "\n",
    "Reference:https://business-science.github.io/anomalize/articles/anomalize_methods.html\n",
    "\n"
   ]
  },
  {
   "cell_type": "code",
   "execution_count": 354,
   "metadata": {},
   "outputs": [],
   "source": [
    "t = head(d,44)"
   ]
  },
  {
   "cell_type": "markdown",
   "metadata": {},
   "source": [
    "https://datascienceplus.com/time-series-analysis-using-arima-model-in-r/ \n",
    "check for stationary"
   ]
  },
  {
   "cell_type": "markdown",
   "metadata": {},
   "source": [
    "### ARIMA"
   ]
  },
  {
   "cell_type": "markdown",
   "metadata": {},
   "source": [
    "1.\tLSTM works better if we are dealing with huge amount of data and enough training data is available, while ARIMA is better for smaller datasets\n",
    "2.\tARIMA requires a series of parameters (p,q,d) which must be calculated based on data, while LSTM does not require setting such parameters. However, there are some hyperparameters we need to tune for LSTM.\n",
    "3.\tARIMA could only perform well on stationary time series (where there is no seasonality, trend and etc.) and you need to take care of that if want to use ARIMA\n"
   ]
  },
  {
   "cell_type": "code",
   "execution_count": 10,
   "metadata": {},
   "outputs": [],
   "source": [
    "func3 <- function(data){\n",
    "    # check stationary\n",
    "    index = 1:59\n",
    "    ts = data\n",
    "    kpss.test(ts)\n",
    "    \n",
    "    # fit\n",
    "    fit <- arima(ts, c(1,1,0))\n",
    "    tsdisplay(residuals(fit))\n",
    "    \n",
    "\n",
    "    fitted = fitted(fit)\n",
    "    #error = abs(fitted-ts)\n",
    "    #mean = rollmean(ts, 7, fill=NA, align='right')\n",
    "    #std = rollapply(ts, 7, sd, fill=NA, align='right')\n",
    "    #v = which(error > 1.5*std)\n",
    "    #plot(fit$x, col=ifelse(index %in% v,'red','black'), type='o');  lines(fitted(fit),col=\"blue\") \n",
    "    detect_outlier(data, fit)\n",
    "    \n",
    "    f = forecast(fit,7)\n",
    "    plot(f)\n",
    "    \n",
    "}"
   ]
  },
  {
   "cell_type": "code",
   "execution_count": 67,
   "metadata": {},
   "outputs": [
    {
     "data": {
      "text/html": [
       "<table>\n",
       "<thead><tr><th scope=col>type</th><th scope=col>ind</th><th scope=col>coefhat</th><th scope=col>tstat</th></tr></thead>\n",
       "<tbody>\n",
       "\t<tr><td>AO       </td><td> 3       </td><td>-121761.6</td><td>-3.598000</td></tr>\n",
       "\t<tr><td>AO       </td><td>35       </td><td>-126259.6</td><td>-3.729575</td></tr>\n",
       "\t<tr><td>TC       </td><td>20       </td><td> 142848.3</td><td> 3.748381</td></tr>\n",
       "</tbody>\n",
       "</table>\n"
      ],
      "text/latex": [
       "\\begin{tabular}{r|llll}\n",
       " type & ind & coefhat & tstat\\\\\n",
       "\\hline\n",
       "\t AO        &  3        & -121761.6 & -3.598000\\\\\n",
       "\t AO        & 35        & -126259.6 & -3.729575\\\\\n",
       "\t TC        & 20        &  142848.3 &  3.748381\\\\\n",
       "\\end{tabular}\n"
      ],
      "text/markdown": [
       "\n",
       "| type | ind | coefhat | tstat |\n",
       "|---|---|---|---|\n",
       "| AO        |  3        | -121761.6 | -3.598000 |\n",
       "| AO        | 35        | -126259.6 | -3.729575 |\n",
       "| TC        | 20        |  142848.3 |  3.748381 |\n",
       "\n"
      ],
      "text/plain": [
       "  type ind coefhat   tstat    \n",
       "1 AO    3  -121761.6 -3.598000\n",
       "2 AO   35  -126259.6 -3.729575\n",
       "3 TC   20   142848.3  3.748381"
      ]
     },
     "metadata": {},
     "output_type": "display_data"
    }
   ],
   "source": [
    "res$outliers"
   ]
  },
  {
   "cell_type": "code",
   "execution_count": null,
   "metadata": {},
   "outputs": [],
   "source": []
  },
  {
   "cell_type": "code",
   "execution_count": 11,
   "metadata": {},
   "outputs": [],
   "source": [
    "detect_outlier <- function(data, fit){\n",
    "    res <- locate.outliers.oloop(data, fit, types = c(\"AO\", \"LS\", \"TC\"))\n",
    "    res$outliers\n",
    "    v = as.vector(res$outliers$ind)\n",
    "    index = 1:59\n",
    "    plot(data, col=ifelse(index %in% v,'red','black'), type='o');  lines(fitted(fit),col=\"blue\") \n",
    "}"
   ]
  },
  {
   "cell_type": "code",
   "execution_count": null,
   "metadata": {},
   "outputs": [],
   "source": []
  },
  {
   "cell_type": "code",
   "execution_count": null,
   "metadata": {},
   "outputs": [],
   "source": []
  },
  {
   "cell_type": "code",
   "execution_count": null,
   "metadata": {},
   "outputs": [],
   "source": []
  },
  {
   "cell_type": "markdown",
   "metadata": {},
   "source": [
    "### benchmarkM"
   ]
  },
  {
   "cell_type": "code",
   "execution_count": 129,
   "metadata": {},
   "outputs": [],
   "source": [
    "data1 = c(644248. , 600854. , 452830. , 636388. , 638629. , 635154. ,\n",
    "       696833. , 710880. , 653226. , 637810. , 696586. , 662052. ,\n",
    "       668065. , 637245. , 665895. , 631231. , 603395. , 682920. ,\n",
    "       662657. , 796812. , 835134. , 788164. , 689473. , 679961. ,\n",
    "       701911. , 694324. , 712073. , 636347. , 681591. , 617902. ,\n",
    "       584435. , 664686. , 639790. , 630434. , 525185. , 674127. ,\n",
    "       559375. , 535700. , 629173. , 657024. , 693097. , 742669. ,\n",
    "       642488. , 580696. , 571953. , 616042. , 609722. , 644274. ,\n",
    "       653760. , 672620. , 590888. , 567274. , 638841.8, 631353.2,\n",
    "       664535.4, 656833.8, 672732.9, 603716.9, 585876.2)"
   ]
  },
  {
   "cell_type": "code",
   "execution_count": 142,
   "metadata": {},
   "outputs": [],
   "source": [
    "data = c( 5735.   ,  5154.   ,  3374.   ,  5633.   ,  5693.   ,  5445.   ,\n",
    "        6312.   ,  6088.   ,  5653.   ,  5017.   ,  6118.   ,  6043.   ,\n",
    "        5708.   ,  5130.   ,  5608.   ,  5145.   ,  4722.   ,  6217.   ,\n",
    "        5807.   ,  8041.   ,  8312.   , 13084.   ,  6448.   ,  6259.   ,\n",
    "        6673.   ,  6481.   ,  7928.   ,  6919.   ,  7786.   ,  6862.   ,\n",
    "        6747.   ,  7609.   ,  7051.   ,  7331.   ,  5479.   ,  7006.   ,\n",
    "        5877.   ,  5308.   ,  6393.   ,  6110.   ,  6563.   ,  6818.   ,\n",
    "        6460.   ,  5713.   ,  5458.   ,  6132.   ,  6521.   ,  6366.   ,\n",
    "        5783.   ,  6296.   ,  5298.   ,  4873.   ,  6064.68 ,  6067.862,\n",
    "        6275.992,  6320.34 ,  6903.444,  5811.45 ,  5414.026)"
   ]
  },
  {
   "cell_type": "code",
   "execution_count": 157,
   "metadata": {},
   "outputs": [],
   "source": [
    "data =  c(0.00890185, 0.00857779, 0.00745092, 0.00885152, 0.00891441,\n",
    "       0.00857272, 0.00905812, 0.00856403, 0.00865397, 0.00786598,\n",
    "       0.00878283, 0.00912768, 0.00854408, 0.00805028, 0.00842175,\n",
    "       0.00815074, 0.00782572, 0.00910355, 0.00876321, 0.01009146,\n",
    "       0.00995289, 0.01660061, 0.00935207, 0.00920494, 0.0095069 ,\n",
    "       0.00933426, 0.01113369, 0.010873  , 0.01142327, 0.01110532,\n",
    "       0.01154448, 0.01144751, 0.0110208 , 0.0116285 , 0.01043251,\n",
    "       0.0103927 , 0.01050637, 0.00990853, 0.01016096, 0.00929951,\n",
    "       0.00946909, 0.0091804 , 0.01005466, 0.00983819, 0.00954274,\n",
    "       0.00995387, 0.01069504, 0.00988089, 0.00884575, 0.00936041,\n",
    "       0.00896617, 0.00859021, 0.00919651, 0.00891915, 0.00902131,\n",
    "       0.00906328, 0.00879922, 0.00898038, 0.00879297)"
   ]
  },
  {
   "cell_type": "code",
   "execution_count": 163,
   "metadata": {},
   "outputs": [],
   "source": [
    "data=d$rate"
   ]
  },
  {
   "cell_type": "code",
   "execution_count": 164,
   "metadata": {},
   "outputs": [],
   "source": [
    "index=1:59"
   ]
  },
  {
   "cell_type": "code",
   "execution_count": 165,
   "metadata": {},
   "outputs": [
    {
     "name": "stdout",
     "output_type": "stream",
     "text": [
      "[1] 21\n"
     ]
    }
   ],
   "source": [
    "mean = rollmean(data,7, fill=NA, align='right')\n",
    "std = rollapply(data, 7,sd, fill=NA, align='right')\n",
    "v = which((data > mean + 1*std) | (data< mean - 1*std))\n",
    "print(length(v))\n",
    "#plot(fit$x, col=ifelse(index %in% v,'red','black'), type='o');  lines(fitted(fit),col=\"blue\") "
   ]
  },
  {
   "cell_type": "code",
   "execution_count": 166,
   "metadata": {},
   "outputs": [
    {
     "data": {
      "image/png": "[encoded data removed]",
      "text/plain": [
       "plot without title"
      ]
     },
     "metadata": {},
     "output_type": "display_data"
    }
   ],
   "source": [
    "plot(data, col=ifelse(index %in% v,'red','black'), type='o');  lines(fitted(fit),col=\"blue\") "
   ]
  },
  {
   "cell_type": "code",
   "execution_count": null,
   "metadata": {},
   "outputs": [],
   "source": []
  },
  {
   "cell_type": "code",
   "execution_count": null,
   "metadata": {},
   "outputs": [],
   "source": []
  },
  {
   "cell_type": "code",
   "execution_count": 10,
   "metadata": {},
   "outputs": [],
   "source": [
    "func3 <- function(data){\n",
    "    # check stationary\n",
    "    index = 1:59\n",
    "    ts = data\n",
    "    kpss.test(ts)\n",
    "    \n",
    "    # fit\n",
    "    fit <- Arima(ts, c(1,1,7))\n",
    "    tsdisplay(residuals(fit))\n",
    "    \n",
    "\n",
    "    fitted = fitted(fit)\n",
    "    #error = abs(fitted-ts)\n",
    "    #mean = rollmean(ts, 7, fill=NA, align='right')\n",
    "    #std = rollapply(ts, 7, sd, fill=NA, align='right')\n",
    "    #v = which(error > 1.5*std)\n",
    "    #plot(fit$x, col=ifelse(index %in% v,'red','black'), type='o');  lines(fitted(fit),col=\"blue\") \n",
    "    detect_outlier(data, fit)\n",
    "    \n",
    "    f = forecast(fit,7)\n",
    "    plot(f)\n",
    "    \n",
    "}"
   ]
  },
  {
   "cell_type": "markdown",
   "metadata": {},
   "source": [
    "innovational outliers (\"IO\"), additive outliers (\"AO\"), level shifts (\"LS\"), temporary changes (\"TC\") and seasonal level shifts (\"SLS\")."
   ]
  },
  {
   "cell_type": "code",
   "execution_count": null,
   "metadata": {},
   "outputs": [],
   "source": [
    "fit<-arima(d$visitors, c(1,1,7))\n",
    "detect_outlier(d$visitors, fit)"
   ]
  },
  {
   "cell_type": "code",
   "execution_count": 59,
   "metadata": {},
   "outputs": [],
   "source": [
    "index = 1:59\n",
    "ts = d$rate"
   ]
  },
  {
   "cell_type": "code",
   "execution_count": 62,
   "metadata": {},
   "outputs": [],
   "source": [
    "fit <- Arima(ts, c(1,1,7))"
   ]
  },
  {
   "cell_type": "code",
   "execution_count": 70,
   "metadata": {},
   "outputs": [],
   "source": [
    "fit <- arima(ts,c(1,1,7))"
   ]
  },
  {
   "cell_type": "code",
   "execution_count": 68,
   "metadata": {},
   "outputs": [],
   "source": [
    "ts = ts(ts)"
   ]
  },
  {
   "cell_type": "code",
   "execution_count": 66,
   "metadata": {},
   "outputs": [
    {
     "ename": "ERROR",
     "evalue": "Error in outliers.tstatistics.default(pars = pars, resid = resid, types = types, : argument 'pars' should be of class 'ArimaPars' \n       see '?coefs2poly' in package 'tsoutliers'\n",
     "output_type": "error",
     "traceback": [
      "Error in outliers.tstatistics.default(pars = pars, resid = resid, types = types, : argument 'pars' should be of class 'ArimaPars' \n       see '?coefs2poly' in package 'tsoutliers'\nTraceback:\n",
      "1. locate.outliers.oloop(ts, fit, types = c(\"AO\", \"LS\", \"TC\"))",
      "2. locate.outliers.iloop(resid = resid, pars = pars, cval = cval, \n .     types = types, maxit = maxit.iloop, delta = delta, logfile = logfile)",
      "3. locate.outliers(resid = resid, pars = pars, cval = cval, types = types, \n .     delta = delta)",
      "4. outliers.tstatistics(pars = pars, resid = resid, types = types, \n .     sigma = sigma, delta = delta)",
      "5. outliers.tstatistics.default(pars = pars, resid = resid, types = types, \n .     sigma = sigma, delta = delta)",
      "6. stop(msg)"
     ]
    }
   ],
   "source": [
    "locate.outliers.oloop(ts, fit, types=c('AO','LS','TC'))"
   ]
  },
  {
   "cell_type": "code",
   "execution_count": null,
   "metadata": {},
   "outputs": [],
   "source": []
  },
  {
   "cell_type": "code",
   "execution_count": 65,
   "metadata": {},
   "outputs": [
    {
     "ename": "ERROR",
     "evalue": "Error in outliers.tstatistics.default(pars = pars, resid = resid, types = types, : argument 'pars' should be of class 'ArimaPars' \n       see '?coefs2poly' in package 'tsoutliers'\n",
     "output_type": "error",
     "traceback": [
      "Error in outliers.tstatistics.default(pars = pars, resid = resid, types = types, : argument 'pars' should be of class 'ArimaPars' \n       see '?coefs2poly' in package 'tsoutliers'\nTraceback:\n",
      "1. detect_outlier(ts, fit)",
      "2. locate.outliers.oloop(data, fit, types = c(\"AO\", \"LS\", \"TC\"))   # at line 2 of file <text>",
      "3. locate.outliers.iloop(resid = resid, pars = pars, cval = cval, \n .     types = types, maxit = maxit.iloop, delta = delta, logfile = logfile)",
      "4. locate.outliers(resid = resid, pars = pars, cval = cval, types = types, \n .     delta = delta)",
      "5. outliers.tstatistics(pars = pars, resid = resid, types = types, \n .     sigma = sigma, delta = delta)",
      "6. outliers.tstatistics.default(pars = pars, resid = resid, types = types, \n .     sigma = sigma, delta = delta)",
      "7. stop(msg)"
     ]
    }
   ],
   "source": [
    "detect_outlier <- function(data, fit){\n",
    "    res <- locate.outliers.oloop(data, fit, types = c(\"AO\", \"LS\", \"TC\"))\n",
    "    res$outliers\n",
    "    v = as.vector(res$outliers$ind)\n",
    "    index = 1:59\n",
    "    plot(data, col=ifelse(index %in% v,'red','black'), type='o');  lines(fitted(fit),col=\"blue\") \n",
    "}"
   ]
  },
  {
   "cell_type": "code",
   "execution_count": null,
   "metadata": {},
   "outputs": [],
   "source": []
  },
  {
   "cell_type": "code",
   "execution_count": null,
   "metadata": {},
   "outputs": [],
   "source": []
  },
  {
   "cell_type": "markdown",
   "metadata": {},
   "source": [
    "Prophet is a procedure for forecasting time series data. It is based on an additive model where non-linear trends are fit with yearly and weekly seasonality, plus holidays. It works best with daily periodicity data with at least one year of historical data. Prophet is robust to missing data, shifts in the trend, and large outliers.”, I just had to test it out. Could this be what I needed years ago?"
   ]
  },
  {
   "cell_type": "markdown",
   "metadata": {},
   "source": [
    "## Forecasting"
   ]
  },
  {
   "cell_type": "markdown",
   "metadata": {},
   "source": [
    "### 1. ARIMA"
   ]
  },
  {
   "cell_type": "code",
   "execution_count": null,
   "metadata": {},
   "outputs": [],
   "source": []
  },
  {
   "cell_type": "code",
   "execution_count": 75,
   "metadata": {},
   "outputs": [
    {
     "data": {
      "text/html": [
       "<ol class=list-inline>\n",
       "\t<li>0.010103427</li>\n",
       "\t<li>0.009555147</li>\n",
       "\t<li>0.009513023</li>\n",
       "\t<li>0.008846065</li>\n",
       "\t<li>0.008582548</li>\n",
       "\t<li>0.008730028</li>\n",
       "\t<li>0.009080361</li>\n",
       "</ol>\n"
      ],
      "text/latex": [
       "\\begin{enumerate*}\n",
       "\\item 0.010103427\n",
       "\\item 0.009555147\n",
       "\\item 0.009513023\n",
       "\\item 0.008846065\n",
       "\\item 0.008582548\n",
       "\\item 0.008730028\n",
       "\\item 0.009080361\n",
       "\\end{enumerate*}\n"
      ],
      "text/markdown": [
       "1. 0.010103427\n",
       "2. 0.009555147\n",
       "3. 0.009513023\n",
       "4. 0.008846065\n",
       "5. 0.008582548\n",
       "6. 0.008730028\n",
       "7. 0.009080361\n",
       "\n",
       "\n"
      ],
      "text/plain": [
       "[1] 0.010103427 0.009555147 0.009513023 0.008846065 0.008582548 0.008730028\n",
       "[7] 0.009080361"
      ]
     },
     "metadata": {},
     "output_type": "display_data"
    }
   ],
   "source": [
    "test"
   ]
  },
  {
   "cell_type": "code",
   "execution_count": 296,
   "metadata": {},
   "outputs": [],
   "source": [
    "##### use the one month to train\n",
    "data = d$visitors\n",
    "train = as.numeric(data)[1:52]\n",
    "test = as.numeric(data)[53:59]"
   ]
  },
  {
   "cell_type": "code",
   "execution_count": 369,
   "metadata": {},
   "outputs": [],
   "source": [
    "data = d$orders"
   ]
  },
  {
   "cell_type": "code",
   "execution_count": 385,
   "metadata": {},
   "outputs": [],
   "source": [
    "data = d$rate"
   ]
  },
  {
   "cell_type": "code",
   "execution_count": 386,
   "metadata": {},
   "outputs": [],
   "source": [
    "train = as.numeric(data)[1:52]\n",
    "test = as.numeric(data)[53:59]"
   ]
  },
  {
   "cell_type": "code",
   "execution_count": 45,
   "metadata": {},
   "outputs": [],
   "source": [
    "RMSE <- function(pred, test){\n",
    "  sqrt(mean((pred - test)^2))\n",
    "}"
   ]
  },
  {
   "cell_type": "code",
   "execution_count": 405,
   "metadata": {},
   "outputs": [],
   "source": [
    "data = data*1000"
   ]
  },
  {
   "cell_type": "code",
   "execution_count": 444,
   "metadata": {},
   "outputs": [],
   "source": [
    "f_arima <- function(data){\n",
    "    train = as.numeric(data)[1:52]\n",
    "    test = as.numeric(data)[53:59]\n",
    "    ts = train\n",
    "    kpss.test(ts)\n",
    "    \n",
    "    # fit\n",
    "    fit <- Arima(ts, c(4,0,4))\n",
    "    #fit <- auto.arima(ts)\n",
    "    #tsdisplay(residuals(fit))\n",
    "    print(fit$aic)\n",
    "    \n",
    "    f = forecast(fit,7)\n",
    "\n",
    "     #plot(ts,col='red');lines(fit$fitted,col='blue')\n",
    "    plot(forecast(fit,7))\n",
    "    \n",
    "    pred = as.numeric(f$mean)\n",
    "    \n",
    "    print(pred)\n",
    "    return (RMSE(pred, test))\n",
    "}"
   ]
  },
  {
   "cell_type": "code",
   "execution_count": 445,
   "metadata": {},
   "outputs": [
    {
     "name": "stdout",
     "output_type": "stream",
     "text": [
      "[1] 188.5034\n",
      "[1] 9.386398 9.102888 9.121745 9.191821 9.495702 9.384985 9.302651\n"
     ]
    },
    {
     "data": {
      "text/html": [
       "0.573653424139012"
      ],
      "text/latex": [
       "0.573653424139012"
      ],
      "text/markdown": [
       "0.573653424139012"
      ],
      "text/plain": [
       "[1] 0.5736534"
      ]
     },
     "metadata": {},
     "output_type": "display_data"
    },
    {
     "data": {
      "image/png": "[encoded data removed]",
      "text/plain": [
       "Plot with title \"Forecasts from ARIMA(4,0,4) with non-zero mean\""
      ]
     },
     "metadata": {},
     "output_type": "display_data"
    }
   ],
   "source": [
    "f_arima(data)"
   ]
  },
  {
   "cell_type": "code",
   "execution_count": 257,
   "metadata": {},
   "outputs": [
    {
     "name": "stdout",
     "output_type": "stream",
     "text": [
      "Series: train \n",
      "ARIMA(7,0,7) with zero mean \n",
      "\n",
      "Coefficients:\n"
     ]
    },
    {
     "name": "stderr",
     "output_type": "stream",
     "text": [
      "Warning message in sqrt(diag(x$var.coef)):\n",
      "\"NaNs produced\""
     ]
    },
    {
     "name": "stdout",
     "output_type": "stream",
     "text": [
      "          ar1      ar2      ar3      ar4      ar5      ar6      ar7      ma1\n",
      "      -2.1938  -2.3092  -1.7953  -1.3422  -1.1862  -1.0259  -0.4259  -3.4452\n",
      "s.e.   0.1442   0.3865   0.5597   0.6075   0.5422   0.3684   0.1394      NaN\n",
      "         ma2     ma3      ma4     ma5     ma6      ma7\n",
      "      3.2687  1.1384  -3.1429  0.6109  0.9829  -0.4126\n",
      "s.e.     NaN     NaN      NaN     NaN     NaN      NaN\n",
      "\n",
      "sigma^2 estimated as 8.781e+09:  log likelihood=-601.51\n",
      "AIC=1233.02   AICc=1249.57   BIC=1260.12\n",
      "\n",
      "Training set error measures:\n",
      "                   ME     RMSE      MAE       MPE     MAPE       MASE     ACF1\n",
      "Training set 974.6056 77777.11 64299.15 -2.579737 8.704599 0.02037961 0.125833\n",
      "Time Series:\n",
      "Start = 46 \n",
      "End = 52 \n",
      "Frequency = 1 \n",
      "[1] -1571559.7  1710996.0 -1129998.5   309930.4    89523.4   -16030.8  -117370.3\n"
     ]
    },
    {
     "data": {
      "image/png": "[encoded data removed]",
      "text/plain": [
       "Plot with title \"\""
      ]
     },
     "metadata": {},
     "output_type": "display_data"
    }
   ],
   "source": [
    "fit1 <- Arima(train, c(7,0,7), include.mean=FALSE)\n",
    "summary(fit1)\n",
    "#tsdisplay(residuals(fit1))\n",
    "f1 = forecast(fit1, 7)\n",
    "print(f1$mean)"
   ]
  },
  {
   "cell_type": "markdown",
   "metadata": {},
   "source": [
    "### ets"
   ]
  },
  {
   "cell_type": "code",
   "execution_count": 362,
   "metadata": {},
   "outputs": [],
   "source": [
    "data = d$visitors\n",
    "train = as.numeric(data)[1:52]\n",
    "test = as.numeric(data)[53:59]"
   ]
  },
  {
   "cell_type": "code",
   "execution_count": 363,
   "metadata": {},
   "outputs": [
    {
     "name": "stdout",
     "output_type": "stream",
     "text": [
      "ETS(A,N,A) \n",
      "\n",
      "Call:\n",
      " ets(y = train, model = \"ANA\") \n",
      "\n",
      "  Smoothing parameters:\n",
      "    alpha = 0.5966 \n",
      "    gamma = 1e-04 \n",
      "\n",
      "  Initial states:\n",
      "    l = 649894.212 \n",
      "    s = 21450.37 30429.72 -589.5858 9061.723 -56877.56 -36885.77\n",
      "           33411.1\n",
      "\n",
      "  sigma:  48979.93\n",
      "\n",
      "     AIC     AICc      BIC \n",
      "1338.696 1344.062 1358.208 \n",
      "\n",
      "Training set error measures:\n",
      "                    ME     RMSE      MAE        MPE     MAPE      MASE\n",
      "Training set -753.3275 44540.06 31950.71 -0.5199084 4.998369 0.5041492\n",
      "                    ACF1\n",
      "Training set 0.007063424\n",
      "Time Series:\n",
      "Start = c(8, 4) \n",
      "End = c(9, 3) \n",
      "Frequency = 7 \n",
      "[1] 635591.2 625937.3 656955.0 647976.2 659934.7 589638.9 569634.0\n"
     ]
    },
    {
     "data": {
      "image/png": "[encoded data removed]",
      "text/plain": [
       "Plot with title \"Forecasts from ETS(A,N,A)\""
      ]
     },
     "metadata": {},
     "output_type": "display_data"
    }
   ],
   "source": [
    "train = ts(train, frequency=7)\n",
    "fit2 <- ets(train, model='ANA')\n",
    "summary(fit2)\n",
    "f2 = forecast(fit2, 7)\n",
    "plot(f2);\n",
    "print(f2$mean)"
   ]
  },
  {
   "cell_type": "code",
   "execution_count": 287,
   "metadata": {},
   "outputs": [],
   "source": [
    "f_ets <- function(data){\n",
    "    train = as.numeric(data)[1:52]\n",
    "    test = as.numeric(data)[53:59]\n",
    "    ts = ts(train, frequency=7)\n",
    "\n",
    "    \n",
    "    # fit\n",
    "    \n",
    "    fit <- ets(ts, model='AAA')\n",
    "    #plot(ts,col='red');lines(fit$fitted,col='blue')\n",
    "    #plot(forecast(fit,7))\n",
    "    \n",
    "    \n",
    "    f = forecast(fit,7)\n",
    "    plot(f);\n",
    "    accuracy(f)\n",
    "    pred = as.numeric(f$mean)\n",
    "    rmse = RMSE(pred,test)\n",
    "    print(rmse)\n",
    "    return (rmse)\n",
    "}"
   ]
  },
  {
   "cell_type": "markdown",
   "metadata": {},
   "source": [
    "### holt winters"
   ]
  },
  {
   "cell_type": "code",
   "execution_count": 367,
   "metadata": {},
   "outputs": [],
   "source": [
    "data = d$visitors\n",
    "train = as.numeric(data)[1:52]\n",
    "test = as.numeric(data)[53:59]\n",
    "train = ts(train, frequency=7)"
   ]
  },
  {
   "cell_type": "code",
   "execution_count": 368,
   "metadata": {},
   "outputs": [
    {
     "name": "stdout",
     "output_type": "stream",
     "text": [
      "Time Series:\n",
      "Start = c(8, 4) \n",
      "End = c(9, 3) \n",
      "Frequency = 7 \n",
      "[1] 637097.4 628369.6 634947.1 644033.6 663775.3 599378.8 584142.1\n"
     ]
    },
    {
     "data": {
      "image/png": "[encoded data removed]",
      "text/plain": [
       "Plot with title \"Forecasts from HoltWinters\""
      ]
     },
     "metadata": {},
     "output_type": "display_data"
    }
   ],
   "source": [
    "fit3 <- HoltWinters(train, seasonal='additive')\n",
    "f3<-forecast(fit3,7)\n",
    "plot(f3)\n",
    "print(f3$mean)"
   ]
  },
  {
   "cell_type": "code",
   "execution_count": 200,
   "metadata": {},
   "outputs": [],
   "source": [
    "f_hw <- function(data){\n",
    "    train = as.numeric(data)[1:52]\n",
    "    test = as.numeric(data)[53:59]\n",
    "    ts = ts(train, frequency=7)\n",
    "\n",
    "    \n",
    "    # fit\n",
    "    fit <- HoltWinters(ts, seasonal='additive')\n",
    "    plot(fit)\n",
    "    \n",
    "    f <- forecast(fit,7)\n",
    "    plot(f)\n",
    "    accuracy(f)\n",
    "    print(f$mean)\n",
    "\n",
    "    pred = as.numeric(f$mean)\n",
    "    rmse = RMSE(pred,test)\n",
    "    print(rmse)\n",
    "    return (rmse)\n",
    "}"
   ]
  },
  {
   "cell_type": "code",
   "execution_count": 201,
   "metadata": {},
   "outputs": [
    {
     "data": {
      "image/png": "[encoded data removed]",
      "text/plain": [
       "Plot with title \"Holt-Winters filtering\""
      ]
     },
     "metadata": {},
     "output_type": "display_data"
    },
    {
     "name": "stdout",
     "output_type": "stream",
     "text": [
      "Time Series:\n",
      "Start = c(8, 4) \n",
      "End = c(9, 3) \n",
      "Frequency = 7 \n",
      "[1] 0.009185530 0.009161978 0.009039645 0.009006559 0.009188206 0.008605199\n",
      "[7] 0.007963942\n",
      "[1] 0.0006409541\n"
     ]
    },
    {
     "data": {
      "text/html": [
       "0.000640954105358684"
      ],
      "text/latex": [
       "0.000640954105358684"
      ],
      "text/markdown": [
       "0.000640954105358684"
      ],
      "text/plain": [
       "[1] 0.0006409541"
      ]
     },
     "metadata": {},
     "output_type": "display_data"
    },
    {
     "data": {
      "image/png": "[encoded data removed]",
      "text/plain": [
       "Plot with title \"Forecasts from HoltWinters\""
      ]
     },
     "metadata": {},
     "output_type": "display_data"
    }
   ],
   "source": [
    "f_hw(data)"
   ]
  },
  {
   "cell_type": "markdown",
   "metadata": {},
   "source": [
    "#### Holt winters\n",
    "Both forecasting techniques are uniquely different. The Holt-Winters has fewer parameters, so it's simple, but they're basically smoothing factors so it doesn't tell you much if you know them. ARIMA has more parameters, and some of them have some intuitive meaning, but it still doesn't tell you much.\n",
    "\n",
    "\n",
    " The Holt-Winters model is simple and can provide accurate forecasting results as those obtained with more complex techniques. This method is popular, easy to use and generally works well in practical applications. However, it is recommended that the horizon of the predictions made with the Holt-Winters method does not exceed the seasonal cycle of the series, because the predictions with a larger horizon tend to have reduced accuracy. \n",
    " \n",
    "pros:easy to use, accurate, easy to repeat for several periods\n",
    "cons: lies behind the trend\n",
    "\n",
    "#### ARIMA:\n",
    "uncertainty in the estimation of the parameters is,, ARIMA model has many assumptions that cannot be met. ARIMA methodology is competitive in terms of accuracy\n",
    "\n",
    "pros: auto correlation \n",
    "cons: auto correlation, hard to repeat, require data\n",
    "\n",
    "### ets:\n",
    ". In particular, all ETS models are non-stationary, while some ARIMA models are stationary.\n",
    "\n",
    "If there is a trend and/or seasonality, go for exponential smoothing methods (ETS) because the ETS family explicitly model these components. In case you see autocorrelation in the data, i.e. the past explains the present, go for the ARIMA methodology. Plotting the partial autocorrelation function can help you with this.\n",
    "Mentally choose a preferred method based on the method described above but run both ARIMA and ETS models. You can choose the best method based on validation methods like out-of-sample validation or information criteria like AIC and BIC. These methods generally try to estimate the real SSE of your method and help you choose the ‘best’ method."
   ]
  },
  {
   "cell_type": "code",
   "execution_count": null,
   "metadata": {},
   "outputs": [],
   "source": []
  }
 ],
 "metadata": {
  "kernelspec": {
   "display_name": "R",
   "language": "R",
   "name": "ir"
  },
  "language_info": {
   "codemirror_mode": "r",
   "file_extension": ".r",
   "mimetype": "text/x-r-source",
   "name": "R",
   "pygments_lexer": "r",
   "version": "3.6.0"
  }
 },
 "nbformat": 4,
 "nbformat_minor": 2
}
